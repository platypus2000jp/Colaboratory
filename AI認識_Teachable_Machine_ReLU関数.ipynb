{
  "nbformat": 4,
  "nbformat_minor": 0,
  "metadata": {
    "colab": {
      "provenance": [],
      "authorship_tag": "ABX9TyPQdAnORYDHK3Vp3JcTlX+W",
      "include_colab_link": true
    },
    "kernelspec": {
      "name": "python3",
      "display_name": "Python 3"
    },
    "language_info": {
      "name": "python"
    }
  },
  "cells": [
    {
      "cell_type": "markdown",
      "metadata": {
        "id": "view-in-github",
        "colab_type": "text"
      },
      "source": [
        "<a href=\"https://colab.research.google.com/github/platypus2000jp/Colaboratory/blob/main/AI%E8%AA%8D%E8%AD%98_Teachable_Machine_ReLU%E9%96%A2%E6%95%B0.ipynb\" target=\"_parent\"><img src=\"https://colab.research.google.com/assets/colab-badge.svg\" alt=\"Open In Colab\"/></a>"
      ]
    },
    {
      "cell_type": "code",
      "execution_count": 1,
      "metadata": {
        "colab": {
          "base_uri": "https://localhost:8080/"
        },
        "id": "e7FgfrYrj2Ue",
        "outputId": "65dae821-877a-49e4-ac47-12db248ac88e"
      },
      "outputs": [
        {
          "output_type": "stream",
          "name": "stdout",
          "text": [
            "出力: [1.50956353 2.15382709]\n",
            "誤差: 4.3209207205097115\n"
          ]
        }
      ],
      "source": [
        "# prompt: AI認識のTeachable MachineをPython環境で適当な例題として作成できますか。活性化関数はReLU関数を利用してください。\n",
        "\n",
        "import numpy as np\n",
        "\n",
        "# 入力データ（例：画像のピクセル値）\n",
        "input_data = np.array([0.1, 0.2, 0.3, 0.4, 0.5])\n",
        "\n",
        "# 重み（ランダムに初期化）\n",
        "weights1 = np.random.rand(5, 3)  # 5入力、3ニューロンの隠れ層\n",
        "weights2 = np.random.rand(3, 2)  # 3入力、2ニューロンの出力層\n",
        "\n",
        "# バイアス（ランダムに初期化）\n",
        "bias1 = np.random.rand(3)\n",
        "bias2 = np.random.rand(2)\n",
        "\n",
        "# ReLU関数\n",
        "def relu(x):\n",
        "  return np.maximum(0, x)\n",
        "\n",
        "# 順伝播\n",
        "hidden_layer_input = np.dot(input_data, weights1) + bias1\n",
        "hidden_layer_output = relu(hidden_layer_input)\n",
        "\n",
        "output_layer_input = np.dot(hidden_layer_output, weights2) + bias2\n",
        "output_layer_output = relu(output_layer_input)\n",
        "\n",
        "# 出力\n",
        "print(\"出力:\", output_layer_output)\n",
        "\n",
        "# 教師データ（例：画像のクラスラベル）\n",
        "target_data = np.array([0.8, 0.2])\n",
        "\n",
        "# 誤差計算（例：二乗誤差）\n",
        "error = np.sum((output_layer_output - target_data)**2)\n",
        "print(\"誤差:\", error)\n",
        "\n",
        "# 以下、誤差逆伝播による学習を行うコードを記述する必要があります。\n",
        "# ここでは、簡易的な例として順伝播のみを実装しています。"
      ]
    }
  ]
}