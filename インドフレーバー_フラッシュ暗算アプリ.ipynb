{
  "nbformat": 4,
  "nbformat_minor": 0,
  "metadata": {
    "colab": {
      "provenance": [],
      "authorship_tag": "ABX9TyNVQ+oU7OuoeaRaia3nVeP8",
      "include_colab_link": true
    },
    "kernelspec": {
      "name": "python3",
      "display_name": "Python 3"
    },
    "language_info": {
      "name": "python"
    }
  },
  "cells": [
    {
      "cell_type": "markdown",
      "metadata": {
        "id": "view-in-github",
        "colab_type": "text"
      },
      "source": [
        "<a href=\"https://colab.research.google.com/github/platypus2000jp/Colaboratory/blob/main/%E3%82%A4%E3%83%B3%E3%83%89%E3%83%95%E3%83%AC%E3%83%BC%E3%83%90%E3%83%BC_%E3%83%95%E3%83%A9%E3%83%83%E3%82%B7%E3%83%A5%E6%9A%97%E7%AE%97%E3%82%A2%E3%83%97%E3%83%AA.ipynb\" target=\"_parent\"><img src=\"https://colab.research.google.com/assets/colab-badge.svg\" alt=\"Open In Colab\"/></a>"
      ]
    },
    {
      "cell_type": "code",
      "source": [
        "# prompt: フラッシュ暗算アプリを作ってください。もう一度挑戦しますか？の質問は不要です。次々問題を出してください。挑戦回数と正解回数を表示してください。計算はランダムな四則演算としてください。1から20までの数値を扱います。\n",
        "\n",
        "import random\n",
        "\n",
        "def generate_problem():\n",
        "    \"\"\"ランダムな四則演算の問題を生成する (1から20までの数値)\"\"\"\n",
        "    num1 = random.randint(1, 20)\n",
        "    num2 = random.randint(1, 20)\n",
        "    operator = random.choice(['+', '-', '*', '/'])\n",
        "\n",
        "    # 除算で0除算を避ける\n",
        "    if operator == '/' and num2 == 0:\n",
        "        num2 = 1  # 0除算を回避するために、num2を1に変更\n",
        "\n",
        "    problem = f\"{num1} {operator} {num2}\"\n",
        "    try:\n",
        "        answer = eval(problem)\n",
        "    except ZeroDivisionError:\n",
        "        print(\"ゼロ除算エラーが発生しました。問題を再生成します。\")\n",
        "        return generate_problem() # 再帰呼び出しで新しい問題を生成\n",
        "\n",
        "    return problem, answer\n",
        "\n",
        "def main():\n",
        "    \"\"\"フラッシュ暗算アプリのメイン関数\"\"\"\n",
        "    challenge_count = 0\n",
        "    correct_count = 0\n",
        "\n",
        "    while True:\n",
        "        problem, answer = generate_problem()\n",
        "        print(f\"問題: {problem}\")\n",
        "\n",
        "        try:\n",
        "            user_answer = float(input(\"答えを入力してください: \"))\n",
        "        except ValueError:\n",
        "            print(\"無効な入力です。数値を入力してください。\")\n",
        "            continue\n",
        "\n",
        "        challenge_count += 1\n",
        "        if abs(user_answer - answer) < 1e-6:\n",
        "            print(\"正解！\")\n",
        "            correct_count += 1\n",
        "        else:\n",
        "            print(f\"不正解です。正解は {answer} です。\")\n",
        "\n",
        "        print(f\"挑戦回数: {challenge_count}, 正解回数: {correct_count}\")\n",
        "\n",
        "if __name__ == \"__main__\":\n",
        "    main()\n"
      ],
      "metadata": {
        "colab": {
          "base_uri": "https://localhost:8080/"
        },
        "id": "oeK5FY3nN0qb",
        "outputId": "cf52f337-139d-4ae3-fce0-d9784d125d3d"
      },
      "execution_count": null,
      "outputs": [
        {
          "output_type": "stream",
          "name": "stdout",
          "text": [
            "問題: 17 - 16\n"
          ]
        }
      ]
    }
  ]
}