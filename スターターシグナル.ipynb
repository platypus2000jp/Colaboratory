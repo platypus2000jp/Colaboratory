{
  "nbformat": 4,
  "nbformat_minor": 0,
  "metadata": {
    "colab": {
      "provenance": [],
      "authorship_tag": "ABX9TyOBUDtEvEybXIXD+NJc2HQI",
      "include_colab_link": true
    },
    "kernelspec": {
      "name": "python3",
      "display_name": "Python 3"
    },
    "language_info": {
      "name": "python"
    },
    "widgets": {
      "application/vnd.jupyter.widget-state+json": {
        "b7f402c243d841b38703495c237471ba": {
          "model_module": "@jupyter-widgets/controls",
          "model_name": "ButtonModel",
          "model_module_version": "1.5.0",
          "state": {
            "_dom_classes": [],
            "_model_module": "@jupyter-widgets/controls",
            "_model_module_version": "1.5.0",
            "_model_name": "ButtonModel",
            "_view_count": null,
            "_view_module": "@jupyter-widgets/controls",
            "_view_module_version": "1.5.0",
            "_view_name": "ButtonView",
            "button_style": "",
            "description": "Start",
            "disabled": false,
            "icon": "",
            "layout": "IPY_MODEL_bd589a157ee7403eb6849d4b842ec1cb",
            "style": "IPY_MODEL_cfb1a77db1954d25aecc09b5c5a62e4f",
            "tooltip": ""
          }
        },
        "bd589a157ee7403eb6849d4b842ec1cb": {
          "model_module": "@jupyter-widgets/base",
          "model_name": "LayoutModel",
          "model_module_version": "1.2.0",
          "state": {
            "_model_module": "@jupyter-widgets/base",
            "_model_module_version": "1.2.0",
            "_model_name": "LayoutModel",
            "_view_count": null,
            "_view_module": "@jupyter-widgets/base",
            "_view_module_version": "1.2.0",
            "_view_name": "LayoutView",
            "align_content": null,
            "align_items": null,
            "align_self": null,
            "border": null,
            "bottom": null,
            "display": null,
            "flex": null,
            "flex_flow": null,
            "grid_area": null,
            "grid_auto_columns": null,
            "grid_auto_flow": null,
            "grid_auto_rows": null,
            "grid_column": null,
            "grid_gap": null,
            "grid_row": null,
            "grid_template_areas": null,
            "grid_template_columns": null,
            "grid_template_rows": null,
            "height": null,
            "justify_content": null,
            "justify_items": null,
            "left": null,
            "margin": null,
            "max_height": null,
            "max_width": null,
            "min_height": null,
            "min_width": null,
            "object_fit": null,
            "object_position": null,
            "order": null,
            "overflow": null,
            "overflow_x": null,
            "overflow_y": null,
            "padding": null,
            "right": null,
            "top": null,
            "visibility": null,
            "width": null
          }
        },
        "cfb1a77db1954d25aecc09b5c5a62e4f": {
          "model_module": "@jupyter-widgets/controls",
          "model_name": "ButtonStyleModel",
          "model_module_version": "1.5.0",
          "state": {
            "_model_module": "@jupyter-widgets/controls",
            "_model_module_version": "1.5.0",
            "_model_name": "ButtonStyleModel",
            "_view_count": null,
            "_view_module": "@jupyter-widgets/base",
            "_view_module_version": "1.2.0",
            "_view_name": "StyleView",
            "button_color": null,
            "font_weight": ""
          }
        },
        "85405c57689a438aa5eb0eb3e2e890cf": {
          "model_module": "@jupyter-widgets/controls",
          "model_name": "ButtonModel",
          "model_module_version": "1.5.0",
          "state": {
            "_dom_classes": [],
            "_model_module": "@jupyter-widgets/controls",
            "_model_module_version": "1.5.0",
            "_model_name": "ButtonModel",
            "_view_count": null,
            "_view_module": "@jupyter-widgets/controls",
            "_view_module_version": "1.5.0",
            "_view_name": "ButtonView",
            "button_style": "",
            "description": "Restart",
            "disabled": false,
            "icon": "",
            "layout": "IPY_MODEL_59c7195d50e747968c0ed9e8bcfcd043",
            "style": "IPY_MODEL_66536112338a402ab0c14ace359243ad",
            "tooltip": ""
          }
        },
        "59c7195d50e747968c0ed9e8bcfcd043": {
          "model_module": "@jupyter-widgets/base",
          "model_name": "LayoutModel",
          "model_module_version": "1.2.0",
          "state": {
            "_model_module": "@jupyter-widgets/base",
            "_model_module_version": "1.2.0",
            "_model_name": "LayoutModel",
            "_view_count": null,
            "_view_module": "@jupyter-widgets/base",
            "_view_module_version": "1.2.0",
            "_view_name": "LayoutView",
            "align_content": null,
            "align_items": null,
            "align_self": null,
            "border": null,
            "bottom": null,
            "display": null,
            "flex": null,
            "flex_flow": null,
            "grid_area": null,
            "grid_auto_columns": null,
            "grid_auto_flow": null,
            "grid_auto_rows": null,
            "grid_column": null,
            "grid_gap": null,
            "grid_row": null,
            "grid_template_areas": null,
            "grid_template_columns": null,
            "grid_template_rows": null,
            "height": null,
            "justify_content": null,
            "justify_items": null,
            "left": null,
            "margin": null,
            "max_height": null,
            "max_width": null,
            "min_height": null,
            "min_width": null,
            "object_fit": null,
            "object_position": null,
            "order": null,
            "overflow": null,
            "overflow_x": null,
            "overflow_y": null,
            "padding": null,
            "right": null,
            "top": null,
            "visibility": null,
            "width": null
          }
        },
        "66536112338a402ab0c14ace359243ad": {
          "model_module": "@jupyter-widgets/controls",
          "model_name": "ButtonStyleModel",
          "model_module_version": "1.5.0",
          "state": {
            "_model_module": "@jupyter-widgets/controls",
            "_model_module_version": "1.5.0",
            "_model_name": "ButtonStyleModel",
            "_view_count": null,
            "_view_module": "@jupyter-widgets/base",
            "_view_module_version": "1.2.0",
            "_view_name": "StyleView",
            "button_color": null,
            "font_weight": ""
          }
        }
      }
    }
  },
  "cells": [
    {
      "cell_type": "markdown",
      "metadata": {
        "id": "view-in-github",
        "colab_type": "text"
      },
      "source": [
        "<a href=\"https://colab.research.google.com/github/platypus2000jp/Colaboratory/blob/main/%E3%82%B9%E3%82%BF%E3%83%BC%E3%82%BF%E3%83%BC%E3%82%B7%E3%82%B0%E3%83%8A%E3%83%AB.ipynb\" target=\"_parent\"><img src=\"https://colab.research.google.com/assets/colab-badge.svg\" alt=\"Open In Colab\"/></a>"
      ]
    },
    {
      "cell_type": "code",
      "execution_count": 3,
      "metadata": {
        "colab": {
          "base_uri": "https://localhost:8080/",
          "height": 231,
          "referenced_widgets": [
            "b7f402c243d841b38703495c237471ba",
            "bd589a157ee7403eb6849d4b842ec1cb",
            "cfb1a77db1954d25aecc09b5c5a62e4f",
            "85405c57689a438aa5eb0eb3e2e890cf",
            "59c7195d50e747968c0ed9e8bcfcd043",
            "66536112338a402ab0c14ace359243ad"
          ]
        },
        "id": "waBjHMwFP0dK",
        "outputId": "781ad53f-df58-4dee-d2dc-149c50cef0d4"
      },
      "outputs": [
        {
          "output_type": "display_data",
          "data": {
            "text/plain": [
              "<Figure size 640x480 with 1 Axes>"
            ],
            "image/png": "[encoded data removed]"
          },
          "metadata": {}
        }
      ],
      "source": [
        "# prompt: スターターシグナルを作って可視化してください。赤・赤・赤・赤・赤の順で一つづつランプを点灯させ、赤・赤・赤・赤・赤を全て同時消灯し、次に緑・緑・緑・緑・緑の5つを同時点灯させます。スタートボタンを作り、リスタートできるようにしてください。ランプは丸い形とします。\n",
        "\n",
        "import matplotlib.pyplot as plt\n",
        "import matplotlib.patches as patches\n",
        "import time\n",
        "from IPython.display import display, clear_output\n",
        "\n",
        "# ランプの位置と色\n",
        "lamp_positions = [(0, 0), (1, 0), (2, 0), (3, 0), (4, 0)]\n",
        "lamp_colors = ['red', 'red', 'red', 'red', 'red']\n",
        "\n",
        "# ランプのサイズとスタイル\n",
        "lamp_radius = 0.4\n",
        "\n",
        "# 図を作成\n",
        "fig, ax = plt.subplots()\n",
        "ax.set_xlim(-1, 5)\n",
        "ax.set_ylim(-1, 1)\n",
        "ax.set_aspect('equal')\n",
        "\n",
        "# ランプの円を描画\n",
        "lamps = []\n",
        "for x, y in lamp_positions:\n",
        "    lamp = patches.Circle((x, y), radius=lamp_radius, color='gray')\n",
        "    ax.add_patch(lamp)\n",
        "    lamps.append(lamp)\n",
        "\n",
        "# スタートボタンの定義\n",
        "def start_sequence():\n",
        "    global lamps\n",
        "    global lamp_colors\n",
        "\n",
        "    # 赤ランプを順番に点灯\n",
        "    for i in range(len(lamps)):\n",
        "        lamps[i].set_color(lamp_colors[i])\n",
        "        display(fig)\n",
        "        clear_output(wait=True)\n",
        "        plt.pause(1)\n",
        "\n",
        "    # 赤ランプを全て消灯\n",
        "    for lamp in lamps:\n",
        "        lamp.set_color('gray')\n",
        "    display(fig)\n",
        "    clear_output(wait=True)\n",
        "    plt.pause(1)\n",
        "\n",
        "    # 緑ランプを全て同時点灯\n",
        "    lamp_colors = ['green', 'green', 'green', 'green', 'green']\n",
        "    for i in range(len(lamps)):\n",
        "        lamps[i].set_color(lamp_colors[i])\n",
        "\n",
        "    display(fig)\n",
        "    clear_output(wait=True)\n",
        "    plt.pause(1)\n",
        "\n",
        "\n",
        "def restart_sequence():\n",
        "  global lamp_colors\n",
        "  for lamp in lamps:\n",
        "      lamp.set_color('gray')\n",
        "  lamp_colors = ['red', 'red', 'red', 'red', 'red']\n",
        "  display(fig)\n",
        "  clear_output(wait=True)\n",
        "\n",
        "\n",
        "\n",
        "# スタートボタンを作成\n",
        "from ipywidgets import Button\n",
        "button = Button(description=\"Start\")\n",
        "button.on_click(lambda x: start_sequence())\n",
        "restart_button = Button(description=\"Restart\")\n",
        "restart_button.on_click(lambda x: restart_sequence())\n",
        "\n",
        "display(button)\n",
        "display(restart_button)\n",
        "\n",
        "plt.show()"
      ]
    }
  ]
}