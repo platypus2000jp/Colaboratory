{
  "nbformat": 4,
  "nbformat_minor": 0,
  "metadata": {
    "colab": {
      "provenance": [],
      "authorship_tag": "ABX9TyOXu2TRXvHTE4pTtl+EIxTb",
      "include_colab_link": true
    },
    "kernelspec": {
      "name": "python3",
      "display_name": "Python 3"
    },
    "language_info": {
      "name": "python"
    },
    "widgets": {
      "application/vnd.jupyter.widget-state+json": {
        "6cba5129f0504502b2588c4f5d81b272": {
          "model_module": "@jupyter-widgets/controls",
          "model_name": "ButtonModel",
          "model_module_version": "1.5.0",
          "state": {
            "_dom_classes": [],
            "_model_module": "@jupyter-widgets/controls",
            "_model_module_version": "1.5.0",
            "_model_name": "ButtonModel",
            "_view_count": null,
            "_view_module": "@jupyter-widgets/controls",
            "_view_module_version": "1.5.0",
            "_view_name": "ButtonView",
            "button_style": "",
            "description": "回す",
            "disabled": false,
            "icon": "",
            "layout": "IPY_MODEL_5981f72a924b41209cc9b3556343746c",
            "style": "IPY_MODEL_742395a35f7b4f839be399a6470c801a",
            "tooltip": ""
          }
        },
        "5981f72a924b41209cc9b3556343746c": {
          "model_module": "@jupyter-widgets/base",
          "model_name": "LayoutModel",
          "model_module_version": "1.2.0",
          "state": {
            "_model_module": "@jupyter-widgets/base",
            "_model_module_version": "1.2.0",
            "_model_name": "LayoutModel",
            "_view_count": null,
            "_view_module": "@jupyter-widgets/base",
            "_view_module_version": "1.2.0",
            "_view_name": "LayoutView",
            "align_content": null,
            "align_items": null,
            "align_self": null,
            "border": null,
            "bottom": null,
            "display": null,
            "flex": null,
            "flex_flow": null,
            "grid_area": null,
            "grid_auto_columns": null,
            "grid_auto_flow": null,
            "grid_auto_rows": null,
            "grid_column": null,
            "grid_gap": null,
            "grid_row": null,
            "grid_template_areas": null,
            "grid_template_columns": null,
            "grid_template_rows": null,
            "height": null,
            "justify_content": null,
            "justify_items": null,
            "left": null,
            "margin": null,
            "max_height": null,
            "max_width": null,
            "min_height": null,
            "min_width": null,
            "object_fit": null,
            "object_position": null,
            "order": null,
            "overflow": null,
            "overflow_x": null,
            "overflow_y": null,
            "padding": null,
            "right": null,
            "top": null,
            "visibility": null,
            "width": null
          }
        },
        "742395a35f7b4f839be399a6470c801a": {
          "model_module": "@jupyter-widgets/controls",
          "model_name": "ButtonStyleModel",
          "model_module_version": "1.5.0",
          "state": {
            "_model_module": "@jupyter-widgets/controls",
            "_model_module_version": "1.5.0",
            "_model_name": "ButtonStyleModel",
            "_view_count": null,
            "_view_module": "@jupyter-widgets/base",
            "_view_module_version": "1.2.0",
            "_view_name": "StyleView",
            "button_color": null,
            "font_weight": ""
          }
        }
      }
    }
  },
  "cells": [
    {
      "cell_type": "markdown",
      "metadata": {
        "id": "view-in-github",
        "colab_type": "text"
      },
      "source": [
        "<a href=\"https://colab.research.google.com/github/platypus2000jp/Colaboratory/blob/main/%E3%82%B9%E3%83%AD%E3%83%83%E3%83%88%E3%82%B2%E3%83%BC%E3%83%A0.ipynb\" target=\"_parent\"><img src=\"https://colab.research.google.com/assets/colab-badge.svg\" alt=\"Open In Colab\"/></a>"
      ]
    },
    {
      "cell_type": "code",
      "execution_count": null,
      "metadata": {
        "colab": {
          "base_uri": "https://localhost:8080/",
          "height": 103,
          "referenced_widgets": [
            "6cba5129f0504502b2588c4f5d81b272",
            "5981f72a924b41209cc9b3556343746c",
            "742395a35f7b4f839be399a6470c801a"
          ]
        },
        "id": "yQRcCJnbg-lA",
        "outputId": "9702785a-9bb3-47a3-d9f9-4d74132c194c"
      },
      "outputs": [
        {
          "output_type": "display_data",
          "data": {
            "text/plain": [
              "Button(description='回す', style=ButtonStyle())"
            ],
            "application/vnd.jupyter.widget-view+json": {
              "version_major": 2,
              "version_minor": 0,
              "model_id": "6cba5129f0504502b2588c4f5d81b272"
            }
          },
          "metadata": {}
        },
        {
          "output_type": "stream",
          "name": "stdout",
          "text": [
            "結果: 🔔 🍋 🔔\n",
            "結果: 🍋 🍒 🍊\n",
            "結果: 🍊 🔔 🍊\n"
          ]
        }
      ],
      "source": [
        "# prompt: スロットゲームを作ってください。回すボタンを作ってください。\n",
        "\n",
        "import random\n",
        "import ipywidgets as widgets\n",
        "from IPython.display import display\n",
        "\n",
        "def spin_slot_machine():\n",
        "  \"\"\"スロットマシンを回して結果を表示します。\"\"\"\n",
        "  symbols = [\"🍒\", \"🔔\", \"🍋\", \"🍊\", \"⭐\"]\n",
        "  result = [random.choice(symbols) for _ in range(3)]\n",
        "  print(f\"結果: {result[0]} {result[1]} {result[2]}\")\n",
        "\n",
        "# 回すボタンを作成\n",
        "spin_button = widgets.Button(description=\"回す\")\n",
        "\n",
        "# ボタンがクリックされたときの動作を定義\n",
        "def on_button_clicked(b):\n",
        "  spin_slot_machine()\n",
        "\n",
        "spin_button.on_click(on_button_clicked)\n",
        "\n",
        "# ボタンを表示\n",
        "display(spin_button)\n"
      ]
    }
  ]
}