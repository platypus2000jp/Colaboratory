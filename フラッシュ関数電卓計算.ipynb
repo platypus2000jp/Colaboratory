{
  "cells": [
    {
      "cell_type": "markdown",
      "metadata": {
        "id": "view-in-github",
        "colab_type": "text"
      },
      "source": [
        "<a href=\"https://colab.research.google.com/github/platypus2000jp/Colaboratory/blob/main/%E3%83%95%E3%83%A9%E3%83%83%E3%82%B7%E3%83%A5%E9%96%A2%E6%95%B0%E9%9B%BB%E5%8D%93%E8%A8%88%E7%AE%97.ipynb\" target=\"_parent\"><img src=\"https://colab.research.google.com/assets/colab-badge.svg\" alt=\"Open In Colab\"/></a>"
      ]
    },
    {
      "cell_type": "code",
      "execution_count": null,
      "metadata": {
        "colab": {
          "background_save": true,
          "base_uri": "https://localhost:8080/"
        },
        "id": "riFIRFpEAl_X",
        "outputId": "0cb6fd87-7ddd-47ed-e63e-a01e5577a108"
      },
      "outputs": [
        {
          "name": "stdout",
          "output_type": "stream",
          "text": [
            "問題: 63 - 9 / 10 * 37 * 43 / 50 * 18\n"
          ]
        }
      ],
      "source": [
        "# prompt: フラッシュ関数電卓計算アプリを作ってください。もう一度挑戦しますか？の質問は不要です。次々問題を出してください。挑戦回数と正解回数を表示してください。計算はランダムな四則演算と関数電卓の関数の複合としてください。計算される数字の数量は8までとします。電卓の桁を超えないようにしてください。計算後の答えは8桁まで。\n",
        "\n",
        "import random\n",
        "\n",
        "def generate_problem():\n",
        "    \"\"\"ランダムな四則演算と関数電卓の関数の複合問題を生成する\"\"\"\n",
        "    operators = ['+', '-', '*', '/']\n",
        "    functions = ['sin', 'cos', 'tan', 'log', 'sqrt']\n",
        "    num_operands = random.randint(2, 8)\n",
        "    problem = \"\"\n",
        "    for i in range(num_operands):\n",
        "        operand = random.randint(1, 99)\n",
        "        problem += str(operand)\n",
        "        if i < num_operands - 1:\n",
        "            if random.random() < 0.5:  # 演算子か関数か選択\n",
        "                operator = random.choice(operators)\n",
        "                problem += operator\n",
        "            else:\n",
        "                function = random.choice(functions)\n",
        "                problem += '(' + function + '(' + str(operand) + '))'\n",
        "\n",
        "    return problem\n",
        "\n",
        "\n",
        "def calculate(problem):\n",
        "    \"\"\"問題を計算する\"\"\"\n",
        "    try:\n",
        "        result = eval(problem)\n",
        "        return round(result, 8)\n",
        "    except (ZeroDivisionError, ValueError, TypeError):\n",
        "        return \"計算エラー\"\n",
        "\n",
        "challenge_count = 0\n",
        "correct_count = 0\n",
        "\n",
        "while True:\n",
        "    problem = generate_problem()\n",
        "    print(f\"問題：{problem} = ?\")\n",
        "    challenge_count += 1\n",
        "\n",
        "    try:\n",
        "        user_answer = float(input(\"答えを入力してください：\"))\n",
        "        correct_answer = calculate(problem)\n",
        "\n",
        "        if correct_answer == \"計算エラー\":\n",
        "            print(\"計算エラーが発生しました。\")\n",
        "        elif round(user_answer, 8) == correct_answer:\n",
        "            print(\"正解です！\")\n",
        "            correct_count += 1\n",
        "        else:\n",
        "            print(f\"不正解です。正解は{correct_answer}です。\")\n",
        "\n",
        "    except ValueError:\n",
        "        print(\"数値を入力してください。\")\n",
        "\n",
        "    print(f\"挑戦回数：{challenge_count}, 正解回数：{correct_count}\")\n"
      ]
    }
  ],
  "metadata": {
    "colab": {
      "provenance": [],
      "authorship_tag": "ABX9TyP6SVwFMaZXSgyOFRczPWH+",
      "include_colab_link": true
    },
    "kernelspec": {
      "display_name": "Python 3",
      "name": "python3"
    },
    "language_info": {
      "name": "python"
    }
  },
  "nbformat": 4,
  "nbformat_minor": 0
}