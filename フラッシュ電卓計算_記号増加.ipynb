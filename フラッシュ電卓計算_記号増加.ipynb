{
  "nbformat": 4,
  "nbformat_minor": 0,
  "metadata": {
    "colab": {
      "provenance": [],
      "authorship_tag": "ABX9TyP8S9tZrpwHN6J95yOrB1zG",
      "include_colab_link": true
    },
    "kernelspec": {
      "name": "python3",
      "display_name": "Python 3"
    },
    "language_info": {
      "name": "python"
    }
  },
  "cells": [
    {
      "cell_type": "markdown",
      "metadata": {
        "id": "view-in-github",
        "colab_type": "text"
      },
      "source": [
        "<a href=\"https://colab.research.google.com/github/platypus2000jp/Colaboratory/blob/main/%E3%83%95%E3%83%A9%E3%83%83%E3%82%B7%E3%83%A5%E9%9B%BB%E5%8D%93%E8%A8%88%E7%AE%97_%E8%A8%98%E5%8F%B7%E5%A2%97%E5%8A%A0.ipynb\" target=\"_parent\"><img src=\"https://colab.research.google.com/assets/colab-badge.svg\" alt=\"Open In Colab\"/></a>"
      ]
    },
    {
      "cell_type": "code",
      "execution_count": null,
      "metadata": {
        "colab": {
          "base_uri": "https://localhost:8080/"
        },
        "id": "7rsF4wpFxHI-",
        "outputId": "9ca09021-d507-4c71-f404-c817dac04bea"
      },
      "outputs": [
        {
          "output_type": "stream",
          "name": "stdout",
          "text": [
            "計算できない問題です。\n",
            "計算できない問題です。\n",
            "計算できない問題です。\n",
            "計算できない問題です。\n",
            "計算できない問題です。\n",
            "計算できない問題です。\n",
            "計算できない問題です。\n",
            "問題: 686 / 178 - 895 + 860 / 964 + 45 + 313\n"
          ]
        }
      ],
      "source": [
        "# prompt: フラッシュ電卓計算アプリを作ってください。もう一度挑戦しますか？の質問は不要です。次々問題を出してください。挑戦回数と正解回数を表示してください。計算はランダムな四則演算としてください。計算される数字の数量は8までとします。電卓の桁を超えないようにしてください。計算後の答えは8桁まで。\n",
        "\n",
        "import random\n",
        "\n",
        "def generate_problem():\n",
        "  \"\"\"ランダムな四則演算問題を生成する\"\"\"\n",
        "  operators = ['+', '-', '*', '/' ,'(' , ')' ]\n",
        "  num_operands = random.randint(2, 8)\n",
        "  operands = [random.randint(1, 999) for _ in range(num_operands)]\n",
        "  problem = str(operands[0])\n",
        "  for i in range(1, num_operands):\n",
        "    operator = random.choice(operators)\n",
        "    problem += ' ' + operator + ' ' + str(operands[i])\n",
        "  return problem\n",
        "\n",
        "def calculate_answer(problem):\n",
        "  \"\"\"問題の答えを計算する\"\"\"\n",
        "  try:\n",
        "    answer = eval(problem)\n",
        "    return round(answer, 8)\n",
        "  except (ZeroDivisionError, SyntaxError):\n",
        "    return None\n",
        "\n",
        "def flash_calculator():\n",
        "  \"\"\"フラッシュ電卓ゲームを実行する\"\"\"\n",
        "  attempts = 0\n",
        "  correct_answers = 0\n",
        "\n",
        "  while True:\n",
        "    problem = generate_problem()\n",
        "    answer = calculate_answer(problem)\n",
        "\n",
        "    if answer is not None:\n",
        "      print(f\"問題: {problem}\")\n",
        "      try:\n",
        "        user_answer = float(input(\"答えを入力してください: \"))\n",
        "        attempts += 1\n",
        "\n",
        "        if abs(user_answer - answer) < 1e-6:\n",
        "          correct_answers += 1\n",
        "          print(\"正解です！\")\n",
        "        else:\n",
        "          print(f\"不正解です。正解は {answer} です。\")\n",
        "      except ValueError:\n",
        "        print(\"無効な入力です。数値を入力してください。\")\n",
        "    else:\n",
        "      print(\"計算できない問題です。\")\n",
        "\n",
        "  print(f\"挑戦回数: {attempts}, 正解回数: {correct_answers}\")\n",
        "\n",
        "if __name__ == \"__main__\":\n",
        "  flash_calculator()\n"
      ]
    }
  ]
}