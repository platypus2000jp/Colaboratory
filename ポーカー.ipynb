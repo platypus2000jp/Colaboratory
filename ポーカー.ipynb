{
  "cells": [
    {
      "cell_type": "markdown",
      "metadata": {
        "id": "view-in-github",
        "colab_type": "text"
      },
      "source": [
        "<a href=\"https://colab.research.google.com/github/platypus2000jp/Colaboratory/blob/main/%E3%83%9D%E3%83%BC%E3%82%AB%E3%83%BC.ipynb\" target=\"_parent\"><img src=\"https://colab.research.google.com/assets/colab-badge.svg\" alt=\"Open In Colab\"/></a>"
      ]
    },
    {
      "cell_type": "code",
      "execution_count": null,
      "metadata": {
        "colab": {
          "background_save": true,
          "base_uri": "https://localhost:8080/"
        },
        "id": "JEF1u50ojy-g",
        "outputId": "737433b5-6466-40dc-9d66-b6bddbe8b47a"
      },
      "outputs": [
        {
          "name": "stdout",
          "output_type": "stream",
          "text": [
            "あなたの現在のハンド: [('スペード', '8'), ('ハート', '8'), ('スペード', '7'), ('ダイヤ', '7'), ('クラブ', '3')]\n",
            "現在の役: ツーペア\n"
          ]
        }
      ],
      "source": [
        "# prompt: ポーカーを作ってください。役の成立まで続けることはできますか。\n",
        "\n",
        "import random\n",
        "\n",
        "def create_deck():\n",
        "  \"\"\"トランプのデッキを作成する\"\"\"\n",
        "  suits = ['ハート', 'ダイヤ', 'スペード', 'クラブ']\n",
        "  ranks = ['2', '3', '4', '5', '6', '7', '8', '9', '10', 'J', 'Q', 'K', 'A']\n",
        "  deck = [(suit, rank) for suit in suits for rank in ranks]\n",
        "  random.shuffle(deck)\n",
        "  return deck\n",
        "\n",
        "def deal_hand(deck, num_cards):\n",
        "  \"\"\"デッキから指定された枚数のカードを配る\"\"\"\n",
        "  hand = []\n",
        "  for _ in range(num_cards):\n",
        "    hand.append(deck.pop())\n",
        "  return hand\n",
        "\n",
        "def evaluate_hand(hand):\n",
        "  \"\"\"役を評価する\"\"\"\n",
        "  ranks = [card[1] for card in hand]\n",
        "  suits = [card[0] for card in hand]\n",
        "\n",
        "  rank_counts = {}\n",
        "  for rank in ranks:\n",
        "    if rank in rank_counts:\n",
        "      rank_counts[rank] += 1\n",
        "    else:\n",
        "      rank_counts[rank] = 1\n",
        "\n",
        "  suit_counts = {}\n",
        "  for suit in suits:\n",
        "    if suit in suit_counts:\n",
        "      suit_counts[suit] += 1\n",
        "    else:\n",
        "      suit_counts[suit] = 1\n",
        "\n",
        "  # 役の判定\n",
        "  if 5 in rank_counts.values():\n",
        "    return \"ファイブ・オブ・ア・カインド\"\n",
        "  elif 4 in rank_counts.values():\n",
        "    return \"フォー・オブ・ア・カインド\"\n",
        "  elif 3 in rank_counts.values() and 2 in rank_counts.values():\n",
        "    return \"フルハウス\"\n",
        "  elif 5 in suit_counts.values():\n",
        "    return \"フラッシュ\"\n",
        "  elif \"A\" in ranks and \"K\" in ranks and \"Q\" in ranks and \"J\" in ranks and \"10\" in ranks:\n",
        "    return \"ロイヤルストレートフラッシュ\"\n",
        "  elif all(rank in ranks for rank in [\"A\", \"K\", \"Q\", \"J\", \"10\"]):\n",
        "    return \"ストレートフラッシュ\"\n",
        "  elif all(rank in ranks for rank in [\"A\", \"2\", \"3\", \"4\", \"5\"]):\n",
        "    return \"ストレートフラッシュ\"\n",
        "  elif all(rank in ranks for rank in [\"2\", \"3\", \"4\", \"5\", \"6\"]):\n",
        "    return \"ストレートフラッシュ\"\n",
        "  elif all(rank in ranks for rank in [\"3\", \"4\", \"5\", \"6\", \"7\"]):\n",
        "    return \"ストレートフラッシュ\"\n",
        "  elif all(rank in ranks for rank in [\"4\", \"5\", \"6\", \"7\", \"8\"]):\n",
        "    return \"ストレートフラッシュ\"\n",
        "  elif all(rank in ranks for rank in [\"5\", \"6\", \"7\", \"8\", \"9\"]):\n",
        "    return \"ストレートフラッシュ\"\n",
        "  elif all(rank in ranks for rank in [\"6\", \"7\", \"8\", \"9\", \"10\"]):\n",
        "    return \"ストレートフラッシュ\"\n",
        "  elif all(rank in ranks for rank in [\"7\", \"8\", \"9\", \"10\", \"J\"]):\n",
        "    return \"ストレートフラッシュ\"\n",
        "  elif all(rank in ranks for rank in [\"8\", \"9\", \"10\", \"J\", \"Q\"]):\n",
        "    return \"ストレートフラッシュ\"\n",
        "  elif all(rank in ranks for rank in [\"9\", \"10\", \"J\", \"Q\", \"K\"]):\n",
        "    return \"ストレートフラッシュ\"\n",
        "  elif 3 in rank_counts.values():\n",
        "    return \"スリー・オブ・ア・カインド\"\n",
        "  elif list(rank_counts.values()).count(2) == 2:\n",
        "    return \"ツーペア\"\n",
        "  elif 2 in rank_counts.values():\n",
        "    return \"ワンペア\"\n",
        "  else:\n",
        "    return \"ノーペア\"\n",
        "\n",
        "def main():\n",
        "  deck = create_deck()\n",
        "  hand = deal_hand(deck, 5)\n",
        "  print(\"あなたの現在のハンド:\", hand)\n",
        "  hand_evaluation = evaluate_hand(hand)\n",
        "  print(\"現在の役:\", hand_evaluation)\n",
        "\n",
        "  while True:\n",
        "    action = input(\"カードを交換しますか？(y/n): \")\n",
        "    if action.lower() == 'y':\n",
        "      num_replace = int(input(\"何枚交換しますか？: \"))\n",
        "      for _ in range(num_replace):\n",
        "        card_to_replace = int(input(\"交換するカードの番号を入力してください(0-4): \"))\n",
        "        if 0 <= card_to_replace < len(hand):\n",
        "          hand[card_to_replace] = deck.pop()\n",
        "        else:\n",
        "          print(\"無効な番号です。\")\n",
        "      print(\"新しいハンド:\", hand)\n",
        "      hand_evaluation = evaluate_hand(hand)\n",
        "      print(\"現在の役:\", hand_evaluation)\n",
        "    else:\n",
        "      print(\"ゲーム終了。\")\n",
        "      break\n",
        "\n",
        "\n",
        "if __name__ == \"__main__\":\n",
        "  main()\n"
      ]
    }
  ],
  "metadata": {
    "colab": {
      "provenance": [],
      "authorship_tag": "ABX9TyOgDkpC3/W0EYsvojzCZhpB",
      "include_colab_link": true
    },
    "kernelspec": {
      "display_name": "Python 3",
      "name": "python3"
    },
    "language_info": {
      "name": "python"
    }
  },
  "nbformat": 4,
  "nbformat_minor": 0
}