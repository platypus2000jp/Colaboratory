{
  "nbformat": 4,
  "nbformat_minor": 0,
  "metadata": {
    "colab": {
      "provenance": [],
      "authorship_tag": "ABX9TyP+TCPWZPdXSSGLyqYuKJvM",
      "include_colab_link": true
    },
    "kernelspec": {
      "name": "python3",
      "display_name": "Python 3"
    },
    "language_info": {
      "name": "python"
    }
  },
  "cells": [
    {
      "cell_type": "markdown",
      "metadata": {
        "id": "view-in-github",
        "colab_type": "text"
      },
      "source": [
        "<a href=\"https://colab.research.google.com/github/platypus2000jp/Colaboratory/blob/main/%E4%BE%8B%E9%A1%8C_%E9%87%8E%E9%B3%A5%E3%81%AE%E6%A8%99%E8%AD%98%E8%AA%BF%E6%9F%BB%E3%81%AE%E3%83%99%E3%82%A4%E3%82%BA%E3%83%A2%E3%83%87%E3%83%AB_PyStan%E3%82%92%E4%BD%BF%E3%81%86.ipynb\" target=\"_parent\"><img src=\"https://colab.research.google.com/assets/colab-badge.svg\" alt=\"Open In Colab\"/></a>"
      ]
    },
    {
      "cell_type": "markdown",
      "source": [
        "野鳥の標識調査について機械学習またはベイズのモデルの解析例を示してください。Pythonでお願いします。Pystanを使ってください。\n",
        "\n",
        "野鳥の標識調査（バンディング・リカプチャー調査）は、特定の地域で野鳥にタグをつけて、その後の再捕獲や観察を通して、種の生存率、移動パターン、個体数推定などを行う調査方法です。この調査においてベイズモデルを活用することで、例えば以下の2つの解析を行うことができます。\n",
        "\n",
        "生存率の推定 - タグがつけられた鳥が毎年生き残る確率を推定する。\n",
        "再捕獲確率の推定 - タグがつけられた鳥が観察される確率を推定する。\n",
        "ここでは、生存率と再捕獲確率を推定するシンプルなCJS（Cormack-Jolly-Seber）モデルの例を示します。このモデルは、「生きているが見つからない」という観察の欠如を扱うための標準的なモデルです。\n",
        "\n",
        "CJSモデルの概要\n",
        "phi: 生存率（例えば、毎年生き残る確率）\n",
        "p: 再捕獲確率（再び観察される確率）\n",
        "この例では、Pystanを使用して生存率と再捕獲確率を推定します。\n",
        "\n",
        "コード例\n",
        "まず、Pystanをインストールしていることを確認してください。以下はPythonとStanを使用した分析コードです。\n",
        "\n",
        "python\n",
        "コードをコピーする\n",
        "import pystan\n",
        "import numpy as np\n",
        "import matplotlib.pyplot as plt\n",
        "\n",
        "# サンプルデータ（観察年数、個体数、観察データの生成）\n",
        "n_years = 5\n",
        "n_birds = 100\n",
        "np.random.seed(42)\n",
        "\n",
        "# 生存率と再捕獲確率（仮の真値）\n",
        "true_phi = 0.8  # 生存率\n",
        "true_p = 0.5    # 再捕獲確率\n",
        "\n",
        "# 観察データを生成\n",
        "observations = np.zeros((n_birds, n_years), dtype=int)\n",
        "for bird in range(n_birds):\n",
        "    alive = True\n",
        "    for year in range(n_years):\n",
        "        if alive:\n",
        "            if np.random.rand() < true_p:\n",
        "                observations[bird, year] = 1\n",
        "            alive = np.random.rand() < true_phi\n",
        "\n",
        "# Stanモデルの定義\n",
        "stan_code = \"\"\"\n",
        "data {\n",
        "    int<lower=0> N;              // 個体数\n",
        "    int<lower=0> T;              // 観察年数\n",
        "    int y[N, T];                 // 観察データ\n",
        "}\n",
        "parameters {\n",
        "    real<lower=0, upper=1> phi;  // 生存率\n",
        "    real<lower=0, upper=1> p;    // 再捕獲確率\n",
        "}\n",
        "model {\n",
        "    for (n in 1:N) {\n",
        "        for (t in 2:T) {\n",
        "            y[n, t] ~ bernoulli(phi * y[n, t - 1] + (1 - phi) * p);\n",
        "        }\n",
        "    }\n",
        "}\n",
        "\"\"\"\n",
        "\n",
        "# データの準備\n",
        "stan_data = {\n",
        "    'N': n_birds,\n",
        "    'T': n_years,\n",
        "    'y': observations\n",
        "}\n",
        "\n",
        "# モデルのコンパイルとサンプリング\n",
        "model = pystan.StanModel(model_code=stan_code)\n",
        "fit = model.sampling(data=stan_data, iter=2000, chains=4)\n",
        "\n",
        "# 結果の出力\n",
        "print(fit)\n",
        "\n",
        "# パラメータの事後分布をプロット\n",
        "phi_samples = fit.extract()['phi']\n",
        "p_samples = fit.extract()['p']\n",
        "\n",
        "plt.hist(phi_samples, bins=30, alpha=0.7, label='phi (生存率)')\n",
        "plt.hist(p_samples, bins=30, alpha=0.7, label='p (再捕獲確率)')\n",
        "plt.legend()\n",
        "plt.xlabel(\"Parameter value\")\n",
        "plt.ylabel(\"Frequency\")\n",
        "plt.title(\"Posterior distributions of parameters\")\n",
        "plt.show()\n",
        "コードの説明\n",
        "データ生成 - 仮の生存率と再捕獲確率に基づいて、野鳥の観察データを生成します。\n",
        "Stanモデルの定義 - CJSモデルをStanで定義します。\n",
        "データの準備とサンプリング - 観察データをStanに渡し、サンプリングを行います。\n",
        "結果の表示と可視化 - サンプリング結果を取得し、phi（生存率）とp（再捕獲確率）の事後分布をプロットします。\n",
        "注意\n",
        "この例は単純化したものであり、実際のデータには観察バイアスや多様なモデルが適用される可能性があります。"
      ],
      "metadata": {
        "id": "jlhAu8pMha35"
      }
    },
    {
      "cell_type": "code",
      "source": [
        "# !pip install stan\n",
        "import stan"
      ],
      "metadata": {
        "colab": {
          "base_uri": "https://localhost:8080/",
          "height": 349
        },
        "id": "pqA6tHsHkRSn",
        "outputId": "fc8fee45-58d4-4ff3-f4c0-92c3c11df1a2"
      },
      "execution_count": null,
      "outputs": [
        {
          "output_type": "error",
          "ename": "ModuleNotFoundError",
          "evalue": "No module named 'stan'",
          "traceback": [
            "\u001b[0;31m---------------------------------------------------------------------------\u001b[0m",
            "\u001b[0;31mModuleNotFoundError\u001b[0m                       Traceback (most recent call last)",
            "\u001b[0;32m<ipython-input-18-74e1494496c0>\u001b[0m in \u001b[0;36m<cell line: 2>\u001b[0;34m()\u001b[0m\n\u001b[1;32m      1\u001b[0m \u001b[0;31m# !pip install stan\u001b[0m\u001b[0;34m\u001b[0m\u001b[0;34m\u001b[0m\u001b[0m\n\u001b[0;32m----> 2\u001b[0;31m \u001b[0;32mimport\u001b[0m \u001b[0mstan\u001b[0m\u001b[0;34m\u001b[0m\u001b[0;34m\u001b[0m\u001b[0m\n\u001b[0m",
            "\u001b[0;31mModuleNotFoundError\u001b[0m: No module named 'stan'",
            "",
            "\u001b[0;31m---------------------------------------------------------------------------\u001b[0;32m\nNOTE: If your import is failing due to a missing package, you can\nmanually install dependencies using either !pip or !apt.\n\nTo view examples of installing some common dependencies, click the\n\"Open Examples\" button below.\n\u001b[0;31m---------------------------------------------------------------------------\u001b[0m\n"
          ],
          "errorDetails": {
            "actions": [
              {
                "action": "open_url",
                "actionText": "Open Examples",
                "url": "/notebooks/snippets/importing_libraries.ipynb"
              }
            ]
          }
        }
      ]
    },
    {
      "cell_type": "code",
      "source": [
        "#pystanのインストール\n",
        "import pystan\n",
        "\n",
        "# 作図用ライブラリ\n",
        "%matplotlib inline\n",
        "import matplotlib.pyplot as plt\n",
        "import seaborn as sns\n",
        "\n",
        "#結果の可視化用ライブラリ\n",
        "!pip install arviz\n",
        "import arviz\n",
        "\n",
        "#データフレーム用のライブラリ\n",
        "import pandas as pd"
      ],
      "metadata": {
        "colab": {
          "base_uri": "https://localhost:8080/",
          "height": 403
        },
        "id": "HtciBgDXkODV",
        "outputId": "93bfd7e7-fd73-41d6-8f59-5da7efc5c67d"
      },
      "execution_count": null,
      "outputs": [
        {
          "output_type": "error",
          "ename": "ModuleNotFoundError",
          "evalue": "No module named 'pystan'",
          "traceback": [
            "\u001b[0;31m---------------------------------------------------------------------------\u001b[0m",
            "\u001b[0;31mModuleNotFoundError\u001b[0m                       Traceback (most recent call last)",
            "\u001b[0;32m<ipython-input-16-aa3f676f994f>\u001b[0m in \u001b[0;36m<cell line: 2>\u001b[0;34m()\u001b[0m\n\u001b[1;32m      1\u001b[0m \u001b[0;31m#pystanのインストール\u001b[0m\u001b[0;34m\u001b[0m\u001b[0;34m\u001b[0m\u001b[0m\n\u001b[0;32m----> 2\u001b[0;31m \u001b[0;32mimport\u001b[0m \u001b[0mpystan\u001b[0m\u001b[0;34m\u001b[0m\u001b[0;34m\u001b[0m\u001b[0m\n\u001b[0m\u001b[1;32m      3\u001b[0m \u001b[0;34m\u001b[0m\u001b[0m\n\u001b[1;32m      4\u001b[0m \u001b[0;31m# 作図用ライブラリ\u001b[0m\u001b[0;34m\u001b[0m\u001b[0;34m\u001b[0m\u001b[0m\n\u001b[1;32m      5\u001b[0m \u001b[0mget_ipython\u001b[0m\u001b[0;34m(\u001b[0m\u001b[0;34m)\u001b[0m\u001b[0;34m.\u001b[0m\u001b[0mrun_line_magic\u001b[0m\u001b[0;34m(\u001b[0m\u001b[0;34m'matplotlib'\u001b[0m\u001b[0;34m,\u001b[0m \u001b[0;34m'inline'\u001b[0m\u001b[0;34m)\u001b[0m\u001b[0;34m\u001b[0m\u001b[0;34m\u001b[0m\u001b[0m\n",
            "\u001b[0;31mModuleNotFoundError\u001b[0m: No module named 'pystan'",
            "",
            "\u001b[0;31m---------------------------------------------------------------------------\u001b[0;32m\nNOTE: If your import is failing due to a missing package, you can\nmanually install dependencies using either !pip or !apt.\n\nTo view examples of installing some common dependencies, click the\n\"Open Examples\" button below.\n\u001b[0;31m---------------------------------------------------------------------------\u001b[0m\n"
          ],
          "errorDetails": {
            "actions": [
              {
                "action": "open_url",
                "actionText": "Open Examples",
                "url": "/notebooks/snippets/importing_libraries.ipynb"
              }
            ]
          }
        }
      ]
    },
    {
      "cell_type": "code",
      "source": [
        "# import pystan\n",
        "# import stan\n",
        "import numpy as np\n",
        "import matplotlib.pyplot as plt"
      ],
      "metadata": {
        "id": "LQ4loTpoiBMD"
      },
      "execution_count": null,
      "outputs": []
    },
    {
      "cell_type": "code",
      "source": [
        "# サンプルデータ（観察年数、個体数、観察データの生成）\n",
        "n_years = 5\n",
        "n_birds = 100\n",
        "np.random.seed(42)"
      ],
      "metadata": {
        "id": "YlwCSXZSjF9x"
      },
      "execution_count": null,
      "outputs": []
    },
    {
      "cell_type": "code",
      "execution_count": null,
      "metadata": {
        "id": "HvVD6fAchJ6B"
      },
      "outputs": [],
      "source": [
        "# 生存率と再捕獲確率（仮の真値）\n",
        "true_phi = 0.8  # 生存率\n",
        "true_p = 0.5    # 再捕獲確率"
      ]
    },
    {
      "cell_type": "code",
      "source": [
        "# 観察データを生成\n",
        "observations = np.zeros((n_birds, n_years), dtype=int)\n",
        "for bird in range(n_birds):\n",
        "    alive = True\n",
        "    for year in range(n_years):\n",
        "        if alive:\n",
        "            if np.random.rand() < true_p:\n",
        "                observations[bird, year] = 1\n",
        "            alive = np.random.rand() < true_phi"
      ],
      "metadata": {
        "id": "eeSRWwRRjRlr"
      },
      "execution_count": null,
      "outputs": []
    },
    {
      "cell_type": "code",
      "source": [
        "# Stanモデルの定義\n",
        "stan_code = \"\"\"\n",
        "data {\n",
        "    int<lower=0> N;              // 個体数\n",
        "    int<lower=0> T;              // 観察年数\n",
        "    int y[N, T];                 // 観察データ\n",
        "}\n",
        "parameters {\n",
        "    real<lower=0, upper=1> phi;  // 生存率\n",
        "    real<lower=0, upper=1> p;    // 再捕獲確率\n",
        "}\n",
        "model {\n",
        "    for (n in 1:N) {\n",
        "        for (t in 2:T) {\n",
        "            y[n, t] ~ bernoulli(phi * y[n, t - 1] + (1 - phi) * p);\n",
        "        }\n",
        "    }\n",
        "}\n",
        "\"\"\""
      ],
      "metadata": {
        "id": "-mjIdU8zjYUD"
      },
      "execution_count": null,
      "outputs": []
    },
    {
      "cell_type": "code",
      "source": [
        "# データの準備\n",
        "stan_data = {\n",
        "    'N': n_birds,\n",
        "    'T': n_years,\n",
        "    'y': observations\n",
        "}\n"
      ],
      "metadata": {
        "id": "oL0EbHXcjcCy"
      },
      "execution_count": null,
      "outputs": []
    },
    {
      "cell_type": "code",
      "source": [
        "# モデルのコンパイルとサンプリング\n",
        "model = pystan.StanModel(model_code=stan_code)\n",
        "fit = model.sampling(data=stan_data, iter=2000, chains=4)"
      ],
      "metadata": {
        "colab": {
          "base_uri": "https://localhost:8080/",
          "height": 183
        },
        "id": "jizTLjI2jiol",
        "outputId": "dee201ce-4c97-4883-86dc-1858eb644dbf"
      },
      "execution_count": null,
      "outputs": [
        {
          "output_type": "error",
          "ename": "NameError",
          "evalue": "name 'pystan' is not defined",
          "traceback": [
            "\u001b[0;31m---------------------------------------------------------------------------\u001b[0m",
            "\u001b[0;31mNameError\u001b[0m                                 Traceback (most recent call last)",
            "\u001b[0;32m<ipython-input-13-ec463305af4e>\u001b[0m in \u001b[0;36m<cell line: 2>\u001b[0;34m()\u001b[0m\n\u001b[1;32m      1\u001b[0m \u001b[0;31m# モデルのコンパイルとサンプリング\u001b[0m\u001b[0;34m\u001b[0m\u001b[0;34m\u001b[0m\u001b[0m\n\u001b[0;32m----> 2\u001b[0;31m \u001b[0mmodel\u001b[0m \u001b[0;34m=\u001b[0m \u001b[0mpystan\u001b[0m\u001b[0;34m.\u001b[0m\u001b[0mStanModel\u001b[0m\u001b[0;34m(\u001b[0m\u001b[0mmodel_code\u001b[0m\u001b[0;34m=\u001b[0m\u001b[0mstan_code\u001b[0m\u001b[0;34m)\u001b[0m\u001b[0;34m\u001b[0m\u001b[0;34m\u001b[0m\u001b[0m\n\u001b[0m\u001b[1;32m      3\u001b[0m \u001b[0mfit\u001b[0m \u001b[0;34m=\u001b[0m \u001b[0mmodel\u001b[0m\u001b[0;34m.\u001b[0m\u001b[0msampling\u001b[0m\u001b[0;34m(\u001b[0m\u001b[0mdata\u001b[0m\u001b[0;34m=\u001b[0m\u001b[0mstan_data\u001b[0m\u001b[0;34m,\u001b[0m \u001b[0miter\u001b[0m\u001b[0;34m=\u001b[0m\u001b[0;36m2000\u001b[0m\u001b[0;34m,\u001b[0m \u001b[0mchains\u001b[0m\u001b[0;34m=\u001b[0m\u001b[0;36m4\u001b[0m\u001b[0;34m)\u001b[0m\u001b[0;34m\u001b[0m\u001b[0;34m\u001b[0m\u001b[0m\n",
            "\u001b[0;31mNameError\u001b[0m: name 'pystan' is not defined"
          ]
        }
      ]
    },
    {
      "cell_type": "code",
      "source": [
        "# 結果の出力\n",
        "print(fit)"
      ],
      "metadata": {
        "colab": {
          "base_uri": "https://localhost:8080/",
          "height": 165
        },
        "id": "kYK_oQQUjmEI",
        "outputId": "b76d06d8-dc58-4cb3-e8ad-d04f1a6ad403"
      },
      "execution_count": null,
      "outputs": [
        {
          "output_type": "error",
          "ename": "NameError",
          "evalue": "name 'fit' is not defined",
          "traceback": [
            "\u001b[0;31m---------------------------------------------------------------------------\u001b[0m",
            "\u001b[0;31mNameError\u001b[0m                                 Traceback (most recent call last)",
            "\u001b[0;32m<ipython-input-14-05b90c76e77d>\u001b[0m in \u001b[0;36m<cell line: 2>\u001b[0;34m()\u001b[0m\n\u001b[1;32m      1\u001b[0m \u001b[0;31m# 結果の出力\u001b[0m\u001b[0;34m\u001b[0m\u001b[0;34m\u001b[0m\u001b[0m\n\u001b[0;32m----> 2\u001b[0;31m \u001b[0mprint\u001b[0m\u001b[0;34m(\u001b[0m\u001b[0mfit\u001b[0m\u001b[0;34m)\u001b[0m\u001b[0;34m\u001b[0m\u001b[0;34m\u001b[0m\u001b[0m\n\u001b[0m",
            "\u001b[0;31mNameError\u001b[0m: name 'fit' is not defined"
          ]
        }
      ]
    },
    {
      "cell_type": "code",
      "source": [
        "# パラメータの事後分布をプロット\n",
        "phi_samples = fit.extract()['phi']\n",
        "p_samples = fit.extract()['p']\n",
        "\n",
        "plt.hist(phi_samples, bins=30, alpha=0.7, label='phi (生存率)')\n",
        "plt.hist(p_samples, bins=30, alpha=0.7, label='p (再捕獲確率)')\n",
        "plt.legend()\n",
        "plt.xlabel(\"Parameter value\")\n",
        "plt.ylabel(\"Frequency\")\n",
        "plt.title(\"Posterior distributions of parameters\")\n",
        "plt.show()"
      ],
      "metadata": {
        "colab": {
          "base_uri": "https://localhost:8080/",
          "height": 219
        },
        "id": "52xL7t3LjpBh",
        "outputId": "dc27da82-22a3-4493-e380-9216146b2b2e"
      },
      "execution_count": null,
      "outputs": [
        {
          "output_type": "error",
          "ename": "NameError",
          "evalue": "name 'fit' is not defined",
          "traceback": [
            "\u001b[0;31m---------------------------------------------------------------------------\u001b[0m",
            "\u001b[0;31mNameError\u001b[0m                                 Traceback (most recent call last)",
            "\u001b[0;32m<ipython-input-15-b6ab54753c28>\u001b[0m in \u001b[0;36m<cell line: 2>\u001b[0;34m()\u001b[0m\n\u001b[1;32m      1\u001b[0m \u001b[0;31m# パラメータの事後分布をプロット\u001b[0m\u001b[0;34m\u001b[0m\u001b[0;34m\u001b[0m\u001b[0m\n\u001b[0;32m----> 2\u001b[0;31m \u001b[0mphi_samples\u001b[0m \u001b[0;34m=\u001b[0m \u001b[0mfit\u001b[0m\u001b[0;34m.\u001b[0m\u001b[0mextract\u001b[0m\u001b[0;34m(\u001b[0m\u001b[0;34m)\u001b[0m\u001b[0;34m[\u001b[0m\u001b[0;34m'phi'\u001b[0m\u001b[0;34m]\u001b[0m\u001b[0;34m\u001b[0m\u001b[0;34m\u001b[0m\u001b[0m\n\u001b[0m\u001b[1;32m      3\u001b[0m \u001b[0mp_samples\u001b[0m \u001b[0;34m=\u001b[0m \u001b[0mfit\u001b[0m\u001b[0;34m.\u001b[0m\u001b[0mextract\u001b[0m\u001b[0;34m(\u001b[0m\u001b[0;34m)\u001b[0m\u001b[0;34m[\u001b[0m\u001b[0;34m'p'\u001b[0m\u001b[0;34m]\u001b[0m\u001b[0;34m\u001b[0m\u001b[0;34m\u001b[0m\u001b[0m\n\u001b[1;32m      4\u001b[0m \u001b[0;34m\u001b[0m\u001b[0m\n\u001b[1;32m      5\u001b[0m \u001b[0mplt\u001b[0m\u001b[0;34m.\u001b[0m\u001b[0mhist\u001b[0m\u001b[0;34m(\u001b[0m\u001b[0mphi_samples\u001b[0m\u001b[0;34m,\u001b[0m \u001b[0mbins\u001b[0m\u001b[0;34m=\u001b[0m\u001b[0;36m30\u001b[0m\u001b[0;34m,\u001b[0m \u001b[0malpha\u001b[0m\u001b[0;34m=\u001b[0m\u001b[0;36m0.7\u001b[0m\u001b[0;34m,\u001b[0m \u001b[0mlabel\u001b[0m\u001b[0;34m=\u001b[0m\u001b[0;34m'phi (生存率)'\u001b[0m\u001b[0;34m)\u001b[0m\u001b[0;34m\u001b[0m\u001b[0;34m\u001b[0m\u001b[0m\n",
            "\u001b[0;31mNameError\u001b[0m: name 'fit' is not defined"
          ]
        }
      ]
    }
  ]
}