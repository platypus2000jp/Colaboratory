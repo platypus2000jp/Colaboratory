{
  "nbformat": 4,
  "nbformat_minor": 0,
  "metadata": {
    "colab": {
      "provenance": [],
      "authorship_tag": "ABX9TyPKTBSO0/mOjcYvWEHZPsLE",
      "include_colab_link": true
    },
    "kernelspec": {
      "name": "python3",
      "display_name": "Python 3"
    },
    "language_info": {
      "name": "python"
    }
  },
  "cells": [
    {
      "cell_type": "markdown",
      "metadata": {
        "id": "view-in-github",
        "colab_type": "text"
      },
      "source": [
        "<a href=\"https://colab.research.google.com/github/platypus2000jp/Colaboratory/blob/main/%E5%86%8D%E6%A8%99%E6%9C%AC%E5%8C%96%E6%B3%95.ipynb\" target=\"_parent\"><img src=\"https://colab.research.google.com/assets/colab-badge.svg\" alt=\"Open In Colab\"/></a>"
      ]
    },
    {
      "cell_type": "code",
      "execution_count": null,
      "metadata": {
        "colab": {
          "base_uri": "https://localhost:8080/"
        },
        "id": "Eheq-svzpLRQ",
        "outputId": "a7f03afd-60ea-47f6-c609-d84c4138b2b3"
      },
      "outputs": [
        {
          "output_type": "stream",
          "name": "stdout",
          "text": [
            "母集団平均の推定値: 17.428571428571427\n",
            "母集団標準偏差の推定値: 5.411627692821661\n",
            "信頼区間（95.0%）: [12.423650565385145, 22.43349229175771]\n"
          ]
        }
      ],
      "source": [
        "# prompt: 母集団の推定をしてください。\n",
        "\n",
        "import numpy as np\n",
        "from scipy import stats\n",
        "\n",
        "def estimate_population_mean_and_std(sample_data, confidence_level=0.95):\n",
        "  \"\"\"\n",
        "  標本データから母集団の平均と標準偏差を推定します。\n",
        "\n",
        "  Args:\n",
        "    sample_data: 標本データのリストまたはNumPy配列。\n",
        "    confidence_level: 信頼水準（デフォルトは0.95）。\n",
        "\n",
        "  Returns:\n",
        "    母集団平均の推定値、母集団標準偏差の推定値、信頼区間の下限、信頼区間の上限のタプル。\n",
        "  \"\"\"\n",
        "\n",
        "  sample_mean = np.mean(sample_data)\n",
        "  sample_std = np.std(sample_data, ddof=1)  # 標本標準偏差（自由度n-1）\n",
        "  sample_size = len(sample_data)\n",
        "\n",
        "  # t分布を用いた信頼区間の計算\n",
        "  t_critical = stats.t.ppf((1 + confidence_level) / 2, df=sample_size - 1)\n",
        "  margin_of_error = t_critical * (sample_std / np.sqrt(sample_size))\n",
        "  lower_bound = sample_mean - margin_of_error\n",
        "  upper_bound = sample_mean + margin_of_error\n",
        "\n",
        "  return sample_mean, sample_std, lower_bound, upper_bound\n",
        "\n",
        "\n",
        "# 例：標本データから母集団の平均と標準偏差を推定\n",
        "sample_data = [10, 12, 15, 18, 20, 22, 25]\n",
        "mean_est, std_est, lower_bound, upper_bound = estimate_population_mean_and_std(sample_data)\n",
        "\n",
        "print(f\"母集団平均の推定値: {mean_est}\")\n",
        "print(f\"母集団標準偏差の推定値: {std_est}\")\n",
        "print(f\"信頼区間（{0.95*100}%）: [{lower_bound}, {upper_bound}]\")\n"
      ]
    },
    {
      "cell_type": "code",
      "source": [
        "# prompt: 同様に最尤推定をしてください。\n",
        "\n",
        "import numpy as np\n",
        "from scipy import stats\n",
        "\n",
        "\n",
        "def estimate_population_mean_and_std_mle(sample_data):\n",
        "  \"\"\"\n",
        "  標本データから母集団の平均と標準偏差を最尤推定します。\n",
        "\n",
        "  Args:\n",
        "    sample_data: 標本データのリストまたはNumPy配列。\n",
        "\n",
        "  Returns:\n",
        "    母集団平均の最尤推定値、母集団標準偏差の最尤推定値のタプル。\n",
        "  \"\"\"\n",
        "\n",
        "  sample_mean = np.mean(sample_data)\n",
        "  sample_std = np.std(sample_data)  # 標本標準偏差（自由度n）\n",
        "\n",
        "  return sample_mean, sample_std\n",
        "\n",
        "\n",
        "# 例：標本データから母集団の平均と標準偏差を最尤推定\n",
        "sample_data = [10, 12, 15, 18, 20, 22, 25]\n",
        "mean_mle, std_mle = estimate_population_mean_and_std_mle(sample_data)\n",
        "\n",
        "print(f\"母集団平均の最尤推定値: {mean_mle}\")\n",
        "print(f\"母集団標準偏差の最尤推定値: {std_mle}\")\n"
      ],
      "metadata": {
        "colab": {
          "base_uri": "https://localhost:8080/"
        },
        "id": "HOT10ndrpkBB",
        "outputId": "d75e1fa9-e01d-4749-f71b-ff0778219b58"
      },
      "execution_count": null,
      "outputs": [
        {
          "output_type": "stream",
          "name": "stdout",
          "text": [
            "母集団平均の最尤推定値: 17.428571428571427\n",
            "母集団標準偏差の最尤推定値: 5.010193690500052\n"
          ]
        }
      ]
    },
    {
      "cell_type": "code",
      "source": [
        "# prompt: ブートストラップ法による推定をしてください。\n",
        "\n",
        "import numpy as np\n",
        "\n",
        "def bootstrap_mean_and_std(sample_data, num_bootstraps=1000):\n",
        "  \"\"\"\n",
        "  ブートストラップ法を用いて母集団平均と標準偏差を推定します。\n",
        "\n",
        "  Args:\n",
        "    sample_data: 標本データのリストまたはNumPy配列。\n",
        "    num_bootstraps: ブートストラップサンプリングの回数（デフォルトは1000）。\n",
        "\n",
        "  Returns:\n",
        "    母集団平均のブートストラップ推定値のリスト、母集団標準偏差のブートストラップ推定値のリスト。\n",
        "  \"\"\"\n",
        "\n",
        "  bootstrap_means = []\n",
        "  bootstrap_stds = []\n",
        "\n",
        "  for _ in range(num_bootstraps):\n",
        "    bootstrap_sample = np.random.choice(sample_data, size=len(sample_data), replace=True)\n",
        "    bootstrap_means.append(np.mean(bootstrap_sample))\n",
        "    bootstrap_stds.append(np.std(bootstrap_sample))\n",
        "\n",
        "  return bootstrap_means, bootstrap_stds\n",
        "\n",
        "# 例：標本データから母集団の平均と標準偏差をブートストラップ法で推定\n",
        "sample_data = [10, 12, 15, 18, 20, 22, 25]\n",
        "bootstrap_means, bootstrap_stds = bootstrap_mean_and_std(sample_data)\n",
        "\n",
        "# ブートストラップ推定値の平均と標準偏差を計算\n",
        "estimated_mean = np.mean(bootstrap_means)\n",
        "estimated_std = np.mean(bootstrap_stds)\n",
        "\n",
        "print(f\"母集団平均のブートストラップ推定値: {estimated_mean}\")\n",
        "print(f\"母集団標準偏差のブートストラップ推定値: {estimated_std}\")\n",
        "\n",
        "# 信頼区間を計算（95%信頼区間）\n",
        "lower_bound = np.percentile(bootstrap_means, 2.5)\n",
        "upper_bound = np.percentile(bootstrap_means, 97.5)\n",
        "print(f\"母集団平均のブートストラップ信頼区間（95%）: [{lower_bound}, {upper_bound}]\")\n"
      ],
      "metadata": {
        "colab": {
          "base_uri": "https://localhost:8080/"
        },
        "id": "_EztQ3sbppZl",
        "outputId": "d5bfca54-e449-415e-f052-652f9a17daad"
      },
      "execution_count": null,
      "outputs": [
        {
          "output_type": "stream",
          "name": "stdout",
          "text": [
            "母集団平均のブートストラップ推定値: 17.431142857142856\n",
            "母集団標準偏差のブートストラップ推定値: 4.51903518448003\n",
            "母集団平均のブートストラップ信頼区間（95%）: [13.857142857142858, 21.428571428571427]\n"
          ]
        }
      ]
    },
    {
      "cell_type": "code",
      "source": [
        "# prompt: パラメトリック・ブートストラップ法による推定をしてください。\n",
        "\n",
        "import numpy as np\n",
        "from scipy import stats\n",
        "\n",
        "\n",
        "def parametric_bootstrap_mean_and_std(sample_data, num_bootstraps=1000):\n",
        "  \"\"\"\n",
        "  パラメトリック・ブートストラップ法を用いて母集団平均と標準偏差を推定します。\n",
        "\n",
        "  Args:\n",
        "    sample_data: 標本データのリストまたはNumPy配列。\n",
        "    num_bootstraps: ブートストラップサンプリングの回数（デフォルトは1000）。\n",
        "\n",
        "  Returns:\n",
        "    母集団平均のパラメトリック・ブートストラップ推定値のリスト、母集団標準偏差のパラメトリック・ブートストラップ推定値のリスト。\n",
        "  \"\"\"\n",
        "\n",
        "  sample_mean = np.mean(sample_data)\n",
        "  sample_std = np.std(sample_data)\n",
        "\n",
        "  bootstrap_means = []\n",
        "  bootstrap_stds = []\n",
        "\n",
        "  for _ in range(num_bootstraps):\n",
        "    # 標本平均と標本標準偏差から正規分布を仮定し、新しい標本を生成\n",
        "    bootstrap_sample = np.random.normal(loc=sample_mean, scale=sample_std, size=len(sample_data))\n",
        "    bootstrap_means.append(np.mean(bootstrap_sample))\n",
        "    bootstrap_stds.append(np.std(bootstrap_sample))\n",
        "\n",
        "  return bootstrap_means, bootstrap_stds\n",
        "\n",
        "\n",
        "# 例：標本データから母集団の平均と標準偏差をパラメトリック・ブートストラップ法で推定\n",
        "sample_data = [10, 12, 15, 18, 20, 22, 25]\n",
        "parametric_bootstrap_means, parametric_bootstrap_stds = parametric_bootstrap_mean_and_std(sample_data)\n",
        "\n",
        "# パラメトリック・ブートストラップ推定値の平均と標準偏差を計算\n",
        "estimated_mean = np.mean(parametric_bootstrap_means)\n",
        "estimated_std = np.mean(parametric_bootstrap_stds)\n",
        "\n",
        "print(f\"母集団平均のパラメトリック・ブートストラップ推定値: {estimated_mean}\")\n",
        "print(f\"母集団標準偏差のパラメトリック・ブートストラップ推定値: {estimated_std}\")\n",
        "\n",
        "# 信頼区間を計算（95%信頼区間）\n",
        "lower_bound = np.percentile(parametric_bootstrap_means, 2.5)\n",
        "upper_bound = np.percentile(parametric_bootstrap_means, 97.5)\n",
        "print(f\"母集団平均のパラメトリック・ブートストラップ信頼区間（95%）: [{lower_bound}, {upper_bound}]\")\n"
      ],
      "metadata": {
        "colab": {
          "base_uri": "https://localhost:8080/"
        },
        "id": "mTEeSHO0pva0",
        "outputId": "1f31dbde-bafd-425a-9954-d050b8b7ee0b"
      },
      "execution_count": null,
      "outputs": [
        {
          "output_type": "stream",
          "name": "stdout",
          "text": [
            "母集団平均のパラメトリック・ブートストラップ推定値: 17.37041255515397\n",
            "母集団標準偏差のパラメトリック・ブートストラップ推定値: 4.415950931605448\n",
            "母集団平均のパラメトリック・ブートストラップ信頼区間（95%）: [13.424764899795523, 21.287134320620535]\n"
          ]
        }
      ]
    },
    {
      "cell_type": "code",
      "source": [
        "# prompt: ノンパラメトリック・ブートストラップ法による推定をしてください。\n",
        "\n",
        "import numpy as np\n",
        "\n",
        "def nonparametric_bootstrap_mean_and_std(sample_data, num_bootstraps=1000):\n",
        "  \"\"\"\n",
        "  ノンパラメトリック・ブートストラップ法を用いて母集団平均と標準偏差を推定します。\n",
        "\n",
        "  Args:\n",
        "    sample_data: 標本データのリストまたはNumPy配列。\n",
        "    num_bootstraps: ブートストラップサンプリングの回数（デフォルトは1000）。\n",
        "\n",
        "  Returns:\n",
        "    母集団平均のノンパラメトリック・ブートストラップ推定値のリスト、母集団標準偏差のノンパラメトリック・ブートストラップ推定値のリスト。\n",
        "  \"\"\"\n",
        "\n",
        "  bootstrap_means = []\n",
        "  bootstrap_stds = []\n",
        "\n",
        "  for _ in range(num_bootstraps):\n",
        "    # 標本データから復元抽出で新しい標本を生成\n",
        "    bootstrap_sample = np.random.choice(sample_data, size=len(sample_data), replace=True)\n",
        "    bootstrap_means.append(np.mean(bootstrap_sample))\n",
        "    bootstrap_stds.append(np.std(bootstrap_sample))\n",
        "\n",
        "  return bootstrap_means, bootstrap_stds\n",
        "\n",
        "\n",
        "# 例：標本データから母集団の平均と標準偏差をノンパラメトリック・ブートストラップ法で推定\n",
        "sample_data = [10, 12, 15, 18, 20, 22, 25]\n",
        "nonparametric_bootstrap_means, nonparametric_bootstrap_stds = nonparametric_bootstrap_mean_and_std(sample_data)\n",
        "\n",
        "# ノンパラメトリック・ブートストラップ推定値の平均と標準偏差を計算\n",
        "estimated_mean = np.mean(nonparametric_bootstrap_means)\n",
        "estimated_std = np.mean(nonparametric_bootstrap_stds)\n",
        "\n",
        "print(f\"母集団平均のノンパラメトリック・ブートストラップ推定値: {estimated_mean}\")\n",
        "print(f\"母集団標準偏差のノンパラメトリック・ブートストラップ推定値: {estimated_std}\")\n",
        "\n",
        "# 信頼区間を計算（95%信頼区間）\n",
        "lower_bound = np.percentile(nonparametric_bootstrap_means, 2.5)\n",
        "upper_bound = np.percentile(nonparametric_bootstrap_means, 97.5)\n",
        "print(f\"母集団平均のノンパラメトリック・ブートストラップ信頼区間（95%）: [{lower_bound}, {upper_bound}]\")\n"
      ],
      "metadata": {
        "colab": {
          "base_uri": "https://localhost:8080/"
        },
        "id": "7SL4Ntt_p01n",
        "outputId": "e27caab4-dd6c-4712-86e0-5692ef07d84a"
      },
      "execution_count": null,
      "outputs": [
        {
          "output_type": "stream",
          "name": "stdout",
          "text": [
            "母集団平均のノンパラメトリック・ブートストラップ推定値: 17.470285714285716\n",
            "母集団標準偏差のノンパラメトリック・ブートストラップ推定値: 4.516474642917428\n",
            "母集団平均のノンパラメトリック・ブートストラップ信頼区間（95%）: [13.714285714285714, 21.003571428571426]\n"
          ]
        }
      ]
    },
    {
      "cell_type": "code",
      "source": [
        "# prompt: 平滑化ブートストラップ標本を作成してください。\n",
        "\n",
        "import numpy as np\n",
        "def smoothed_bootstrap_sample(sample_data, bandwidth=0.1):\n",
        "  \"\"\"\n",
        "  平滑化ブートストラップ標本を作成します。\n",
        "\n",
        "  Args:\n",
        "    sample_data: 標本データのリストまたはNumPy配列。\n",
        "    bandwidth: 平滑化の帯域幅（デフォルトは0.1）。\n",
        "\n",
        "  Returns:\n",
        "    平滑化ブートストラップ標本。\n",
        "  \"\"\"\n",
        "\n",
        "  smoothed_sample = []\n",
        "  for _ in range(len(sample_data)):\n",
        "    random_index = np.random.randint(0, len(sample_data))\n",
        "    random_value = sample_data[random_index]\n",
        "    # 平滑化（正規分布からのランダムなノイズを加える）\n",
        "    smoothed_value = random_value + np.random.normal(loc=0, scale=bandwidth)\n",
        "    smoothed_sample.append(smoothed_value)\n",
        "\n",
        "  return smoothed_sample\n",
        "\n",
        "\n",
        "# 例：平滑化ブートストラップ標本を作成\n",
        "sample_data = [10, 12, 15, 18, 20, 22, 25]\n",
        "smoothed_sample = smoothed_bootstrap_sample(sample_data)\n",
        "print(f\"平滑化ブートストラップ標本: {smoothed_sample}\")\n"
      ],
      "metadata": {
        "colab": {
          "base_uri": "https://localhost:8080/"
        },
        "id": "9quWF8lip5zw",
        "outputId": "879fcdac-c5cb-4614-b5a0-53bd3476de7e"
      },
      "execution_count": null,
      "outputs": [
        {
          "output_type": "stream",
          "name": "stdout",
          "text": [
            "平滑化ブートストラップ標本: [19.950026696464896, 25.02473769991622, 12.110964106470615, 25.087449167354734, 12.04085313014875, 21.96025603265025, 12.032365542953958]\n"
          ]
        }
      ]
    },
    {
      "cell_type": "code",
      "source": [
        "# prompt: 個別の再標本化をしてください。\n",
        "\n",
        "import numpy as np\n",
        "\n",
        "def individual_resampling(sample_data):\n",
        "  \"\"\"\n",
        "  個別の再標本化を実行します。\n",
        "\n",
        "  Args:\n",
        "    sample_data: 標本データのリストまたはNumPy配列。\n",
        "\n",
        "  Returns:\n",
        "    再標本化されたデータのリスト。\n",
        "  \"\"\"\n",
        "\n",
        "  resampled_data = np.random.choice(sample_data, size=len(sample_data), replace=True)\n",
        "  return resampled_data\n",
        "\n",
        "# 例：個別の再標本化を実行\n",
        "sample_data = [10, 12, 15, 18, 20, 22, 25]\n",
        "resampled_data = individual_resampling(sample_data)\n",
        "print(f\"再標本化されたデータ: {resampled_data}\")\n"
      ],
      "metadata": {
        "colab": {
          "base_uri": "https://localhost:8080/"
        },
        "id": "DSSMF1Lfp_mJ",
        "outputId": "c757fd4d-910c-4f2f-b0c3-d91a482df661"
      },
      "execution_count": null,
      "outputs": [
        {
          "output_type": "stream",
          "name": "stdout",
          "text": [
            "再標本化されたデータ: [22 25 18 22 18 18 10]\n"
          ]
        }
      ]
    },
    {
      "cell_type": "code",
      "source": [
        "# prompt: 残余の再標本化をしてください。\n",
        "\n",
        "import numpy as np\n",
        "def residual_resampling(sample_data, model_function):\n",
        "  \"\"\"\n",
        "  残余の再標本化を実行します。\n",
        "\n",
        "  Args:\n",
        "    sample_data: 標本データのリストまたはNumPy配列。\n",
        "    model_function: モデル関数（標本データから予測値を計算する関数）。\n",
        "\n",
        "  Returns:\n",
        "    再標本化されたデータのリスト。\n",
        "  \"\"\"\n",
        "\n",
        "  # モデル関数から予測値を計算\n",
        "  predicted_values = model_function(sample_data)\n",
        "\n",
        "  # 残余を計算\n",
        "  residuals = sample_data - predicted_values\n",
        "\n",
        "  # 残余をランダムに再標本化\n",
        "  resampled_residuals = np.random.choice(residuals, size=len(residuals), replace=True)\n",
        "\n",
        "  # 予測値に再標本化された残余を加えることで再標本化されたデータを作成\n",
        "  resampled_data = predicted_values + resampled_residuals\n",
        "\n",
        "  return resampled_data\n",
        "\n",
        "\n",
        "# 例：残余の再標本化を実行（線形回帰モデルを仮定）\n",
        "def linear_regression_model(sample_data):\n",
        "  # ここでは、シンプルな線形回帰モデルを仮定して予測値を計算\n",
        "  x = np.arange(len(sample_data))\n",
        "  slope, intercept, _, _, _ = stats.linregress(x, sample_data)\n",
        "  predicted_values = slope * x + intercept\n",
        "  return predicted_values\n",
        "\n",
        "\n",
        "sample_data = [10, 12, 15, 18, 20, 22, 25]\n",
        "resampled_data = residual_resampling(sample_data, linear_regression_model)\n",
        "print(f\"残余の再標本化されたデータ: {resampled_data}\")\n"
      ],
      "metadata": {
        "colab": {
          "base_uri": "https://localhost:8080/"
        },
        "id": "4MuTMwhtqDEY",
        "outputId": "d32f13f5-bb75-4df4-9422-2b5a1cdd2784"
      },
      "execution_count": null,
      "outputs": [
        {
          "output_type": "stream",
          "name": "stdout",
          "text": [
            "残余の再標本化されたデータ: [ 9.5 12.5 15.  17.5 20.5 22.  24.5]\n"
          ]
        }
      ]
    },
    {
      "cell_type": "code",
      "source": [
        "# prompt: 大雑把なブートストラップをしてください。\n",
        "\n",
        "import numpy as np\n",
        "def rough_bootstrap_mean_and_std(sample_data, num_bootstraps=1000):\n",
        "  \"\"\"\n",
        "  大雑把なブートストラップ法を用いて母集団平均と標準偏差を推定します。\n",
        "\n",
        "  Args:\n",
        "    sample_data: 標本データのリストまたはNumPy配列。\n",
        "    num_bootstraps: ブートストラップサンプリングの回数（デフォルトは1000）。\n",
        "\n",
        "  Returns:\n",
        "    母集団平均の大雑把なブートストラップ推定値のリスト、母集団標準偏差の大雑把なブートストラップ推定値のリスト。\n",
        "  \"\"\"\n",
        "\n",
        "  bootstrap_means = []\n",
        "  bootstrap_stds = []\n",
        "\n",
        "  for _ in range(num_bootstraps):\n",
        "    # 標本データからランダムに一部のデータを選択（復元抽出なし）\n",
        "    bootstrap_sample = np.random.choice(sample_data, size=int(len(sample_data) * 0.8), replace=False)\n",
        "    bootstrap_means.append(np.mean(bootstrap_sample))\n",
        "    bootstrap_stds.append(np.std(bootstrap_sample))\n",
        "\n",
        "  return bootstrap_means, bootstrap_stds\n",
        "\n",
        "\n",
        "# 例：標本データから母集団の平均と標準偏差を大雑把なブートストラップ法で推定\n",
        "sample_data = [10, 12, 15, 18, 20, 22, 25]\n",
        "rough_bootstrap_means, rough_bootstrap_stds = rough_bootstrap_mean_and_std(sample_data)\n",
        "\n",
        "# 大雑把なブートストラップ推定値の平均と標準偏差を計算\n",
        "estimated_mean = np.mean(rough_bootstrap_means)\n",
        "estimated_std = np.mean(rough_bootstrap_stds)\n",
        "\n",
        "print(f\"母集団平均の大雑把なブートストラップ推定値: {estimated_mean}\")\n",
        "print(f\"母集団標準偏差の大雑把なブートストラップ推定値: {estimated_std}\")\n",
        "\n",
        "# 信頼区間を計算（95%信頼区間）\n",
        "lower_bound = np.percentile(rough_bootstrap_means, 2.5)\n",
        "upper_bound = np.percentile(rough_bootstrap_means, 97.5)\n",
        "print(f\"母集団平均の大雑把なブートストラップ信頼区間（95%）: [{lower_bound}, {upper_bound}]\")\n"
      ],
      "metadata": {
        "colab": {
          "base_uri": "https://localhost:8080/"
        },
        "id": "pC-IBTlSqHW2",
        "outputId": "86534036-a324-43b3-92f8-ff4031658386"
      },
      "execution_count": null,
      "outputs": [
        {
          "output_type": "stream",
          "name": "stdout",
          "text": [
            "母集団平均の大雑把なブートストラップ推定値: 17.379800000000003\n",
            "母集団標準偏差の大雑把なブートストラップ推定値: 4.768979435764621\n",
            "母集団平均の大雑把なブートストラップ信頼区間（95%）: [15.0, 20.0]\n"
          ]
        }
      ]
    },
    {
      "cell_type": "code",
      "source": [
        "# prompt: 区間推定をしてください。\n",
        "\n",
        "# 例：標本データから母集団の平均の95%信頼区間を推定\n",
        "sample_data = [10, 12, 15, 18, 20, 22, 25]\n",
        "mean_est, std_est, lower_bound, upper_bound = estimate_population_mean_and_std(sample_data)\n",
        "\n",
        "print(f\"母集団平均の推定値: {mean_est}\")\n",
        "print(f\"95%信頼区間: [{lower_bound}, {upper_bound}]\")\n"
      ],
      "metadata": {
        "colab": {
          "base_uri": "https://localhost:8080/"
        },
        "id": "tlvGajIKqMWH",
        "outputId": "e4fefd10-1f5e-4af4-b2da-d083958ecc29"
      },
      "execution_count": null,
      "outputs": [
        {
          "output_type": "stream",
          "name": "stdout",
          "text": [
            "母集団平均の推定値: 17.428571428571427\n",
            "95%信頼区間: [12.423650565385145, 22.43349229175771]\n"
          ]
        }
      ]
    },
    {
      "cell_type": "code",
      "source": [
        "# prompt: 信頼区間を求めてください。\n",
        "\n",
        "sample_data = [10, 12, 15, 18, 20, 22, 25]  # 例の標本データ\n",
        "confidence_level = 0.95  # 信頼水準（95%）\n",
        "\n",
        "mean_est, std_est, lower_bound, upper_bound = estimate_population_mean_and_std(\n",
        "    sample_data, confidence_level)\n",
        "\n",
        "print(f\"母集団平均の推定値: {mean_est}\")\n",
        "print(f\"{confidence_level*100}%信頼区間: [{lower_bound}, {upper_bound}]\")\n"
      ],
      "metadata": {
        "colab": {
          "base_uri": "https://localhost:8080/"
        },
        "id": "-htu5ZIyqPy9",
        "outputId": "805dad40-7f4a-4c12-8665-a18c8de3c91c"
      },
      "execution_count": null,
      "outputs": [
        {
          "output_type": "stream",
          "name": "stdout",
          "text": [
            "母集団平均の推定値: 17.428571428571427\n",
            "95.0%信頼区間: [12.423650565385145, 22.43349229175771]\n"
          ]
        }
      ]
    },
    {
      "cell_type": "code",
      "source": [
        "# prompt: 正規分布の近似(normal) 法による区間推定をしてください。\n",
        "\n",
        "import numpy as np\n",
        "from scipy import stats\n",
        "\n",
        "\n",
        "def estimate_population_mean_and_std_normal_approx(sample_data, confidence_level=0.95):\n",
        "  \"\"\"\n",
        "  正規分布の近似を用いて母集団の平均と標準偏差を推定します。\n",
        "\n",
        "  Args:\n",
        "    sample_data: 標本データのリストまたはNumPy配列。\n",
        "    confidence_level: 信頼水準（デフォルトは0.95）。\n",
        "\n",
        "  Returns:\n",
        "    母集団平均の推定値、母集団標準偏差の推定値、信頼区間の下限、信頼区間の上限のタプル。\n",
        "  \"\"\"\n",
        "\n",
        "  sample_mean = np.mean(sample_data)\n",
        "  sample_std = np.std(sample_data, ddof=1)  # 標本標準偏差（自由度n-1）\n",
        "  sample_size = len(sample_data)\n",
        "\n",
        "  # z分布を用いた信頼区間の計算\n",
        "  z_critical = stats.norm.ppf((1 + confidence_level) / 2)\n",
        "  margin_of_error = z_critical * (sample_std / np.sqrt(sample_size))\n",
        "  lower_bound = sample_mean - margin_of_error\n",
        "  upper_bound = sample_mean + margin_of_error\n",
        "\n",
        "  return sample_mean, sample_std, lower_bound, upper_bound\n",
        "\n",
        "\n",
        "# 例：標本データから母集団の平均と標準偏差を正規分布の近似を用いて推定\n",
        "sample_data = [10, 12, 15, 18, 20, 22, 25]\n",
        "mean_est, std_est, lower_bound, upper_bound = estimate_population_mean_and_std_normal_approx(\n",
        "    sample_data)\n",
        "\n",
        "print(f\"母集団平均の推定値（正規分布近似）: {mean_est}\")\n",
        "print(f\"母集団標準偏差の推定値（正規分布近似）: {std_est}\")\n",
        "print(f\"信頼区間（95%、正規分布近似）: [{lower_bound}, {upper_bound}]\")\n"
      ],
      "metadata": {
        "colab": {
          "base_uri": "https://localhost:8080/"
        },
        "id": "KL2UbbU2qU8t",
        "outputId": "e77276e0-a375-4842-b146-ae86a623961f"
      },
      "execution_count": null,
      "outputs": [
        {
          "output_type": "stream",
          "name": "stdout",
          "text": [
            "母集団平均の推定値（正規分布近似）: 17.428571428571427\n",
            "母集団標準偏差の推定値（正規分布近似）: 5.411627692821661\n",
            "信頼区間（95%、正規分布近似）: [13.419655196984193, 21.43748766015866]\n"
          ]
        }
      ]
    },
    {
      "cell_type": "code",
      "source": [
        "# prompt: basic 法による区間推定をしてください。\n",
        "\n",
        "import numpy as np\n",
        "from scipy import stats\n",
        "\n",
        "def basic_confidence_interval(sample_data, confidence_level=0.95):\n",
        "  \"\"\"\n",
        "  基本的な区間推定を行います。\n",
        "\n",
        "  Args:\n",
        "    sample_data: 標本データのリストまたはNumPy配列。\n",
        "    confidence_level: 信頼水準（デフォルトは0.95）。\n",
        "\n",
        "  Returns:\n",
        "    信頼区間の下限、信頼区間の上限のタプル。\n",
        "  \"\"\"\n",
        "\n",
        "  sample_mean = np.mean(sample_data)\n",
        "  sample_std = np.std(sample_data, ddof=1)  # 標本標準偏差（自由度n-1）\n",
        "  sample_size = len(sample_data)\n",
        "\n",
        "  # t分布を用いた信頼区間の計算\n",
        "  t_critical = stats.t.ppf((1 + confidence_level) / 2, df=sample_size - 1)\n",
        "  margin_of_error = t_critical * (sample_std / np.sqrt(sample_size))\n",
        "  lower_bound = sample_mean - margin_of_error\n",
        "  upper_bound = sample_mean + margin_of_error\n",
        "\n",
        "  return lower_bound, upper_bound\n",
        "\n",
        "\n",
        "# 例：標本データから母集団平均の95%信頼区間を推定\n",
        "sample_data = [10, 12, 15, 18, 20, 22, 25]\n",
        "lower_bound, upper_bound = basic_confidence_interval(sample_data)\n",
        "\n",
        "print(f\"95%信頼区間: [{lower_bound}, {upper_bound}]\")\n"
      ],
      "metadata": {
        "colab": {
          "base_uri": "https://localhost:8080/"
        },
        "id": "Z3AlUg9yqazy",
        "outputId": "fde074dd-16da-4dcb-9ee1-7fbbd3470475"
      },
      "execution_count": null,
      "outputs": [
        {
          "output_type": "stream",
          "name": "stdout",
          "text": [
            "95%信頼区間: [12.423650565385145, 22.43349229175771]\n"
          ]
        }
      ]
    },
    {
      "cell_type": "code",
      "source": [
        "# prompt: ブートストラップ t(studentized)法による区間推定をしてください。\n",
        "\n",
        "import numpy as np\n",
        "from scipy import stats\n",
        "\n",
        "def bootstrap_t_confidence_interval(sample_data, confidence_level=0.95, num_bootstraps=1000):\n",
        "  \"\"\"\n",
        "  ブートストラップ t(studentized) 法を用いて母集団平均の信頼区間を推定します。\n",
        "\n",
        "  Args:\n",
        "    sample_data: 標本データのリストまたはNumPy配列。\n",
        "    confidence_level: 信頼水準（デフォルトは0.95）。\n",
        "    num_bootstraps: ブートストラップサンプリングの回数（デフォルトは1000）。\n",
        "\n",
        "  Returns:\n",
        "    母集団平均の信頼区間の下限、信頼区間の上限のタプル。\n",
        "  \"\"\"\n",
        "\n",
        "  bootstrap_means = []\n",
        "  bootstrap_t_stats = []\n",
        "\n",
        "  for _ in range(num_bootstraps):\n",
        "    bootstrap_sample = np.random.choice(sample_data, size=len(sample_data), replace=True)\n",
        "    bootstrap_mean = np.mean(bootstrap_sample)\n",
        "    bootstrap_std = np.std(bootstrap_sample, ddof=1)\n",
        "    bootstrap_t_stat = (bootstrap_mean - np.mean(sample_data)) / (bootstrap_std / np.sqrt(len(sample_data)))\n",
        "    bootstrap_means.append(bootstrap_mean)\n",
        "    bootstrap_t_stats.append(bootstrap_t_stat)\n",
        "\n",
        "  # t統計量のパーセンタイルから信頼区間を計算\n",
        "  lower_percentile = (1 - confidence_level) / 2 * 100\n",
        "  upper_percentile = (1 + confidence_level) / 2 * 100\n",
        "  lower_t_stat = np.percentile(bootstrap_t_stats, lower_percentile)\n",
        "  upper_t_stat = np.percentile(bootstrap_t_stats, upper_percentile)\n",
        "\n",
        "  sample_mean = np.mean(sample_data)\n",
        "  sample_std = np.std(sample_data, ddof=1)\n",
        "\n",
        "  lower_bound = sample_mean - upper_t_stat * (sample_std / np.sqrt(len(sample_data)))\n",
        "  upper_bound = sample_mean - lower_t_stat * (sample_std / np.sqrt(len(sample_data)))\n",
        "\n",
        "  return lower_bound, upper_bound\n",
        "\n",
        "\n",
        "# 例：標本データから母集団平均の95%信頼区間をブートストラップ t 法で推定\n",
        "sample_data = [10, 12, 15, 18, 20, 22, 25]\n",
        "lower_bound, upper_bound = bootstrap_t_confidence_interval(sample_data)\n",
        "\n",
        "print(f\"ブートストラップ t 法による95%信頼区間: [{lower_bound}, {upper_bound}]\")\n"
      ],
      "metadata": {
        "colab": {
          "base_uri": "https://localhost:8080/"
        },
        "id": "RVXHVJ-xqhaO",
        "outputId": "c0680869-14f0-495a-e746-21a354ac0731"
      },
      "execution_count": null,
      "outputs": [
        {
          "output_type": "stream",
          "name": "stdout",
          "text": [
            "ブートストラップ t 法による95%信頼区間: [11.413567731452622, 22.795651705864827]\n"
          ]
        }
      ]
    },
    {
      "cell_type": "code",
      "source": [
        "# prompt: パーセンタイル(percentile)法による区間推定をしてください。\n",
        "\n",
        "import numpy as np\n",
        "def percentile_bootstrap_confidence_interval(sample_data, confidence_level=0.95, num_bootstraps=1000):\n",
        "  \"\"\"\n",
        "  パーセンタイル法を用いて母集団平均の信頼区間を推定します。\n",
        "\n",
        "  Args:\n",
        "    sample_data: 標本データのリストまたはNumPy配列。\n",
        "    confidence_level: 信頼水準（デフォルトは0.95）。\n",
        "    num_bootstraps: ブートストラップサンプリングの回数（デフォルトは1000）。\n",
        "\n",
        "  Returns:\n",
        "    母集団平均の信頼区間の下限、信頼区間の上限のタプル。\n",
        "  \"\"\"\n",
        "\n",
        "  bootstrap_means = []\n",
        "  for _ in range(num_bootstraps):\n",
        "    bootstrap_sample = np.random.choice(sample_data, size=len(sample_data), replace=True)\n",
        "    bootstrap_means.append(np.mean(bootstrap_sample))\n",
        "\n",
        "  # ブートストラップ標本平均のパーセンタイルから信頼区間を計算\n",
        "  lower_percentile = (1 - confidence_level) / 2 * 100\n",
        "  upper_percentile = (1 + confidence_level) / 2 * 100\n",
        "  lower_bound = np.percentile(bootstrap_means, lower_percentile)\n",
        "  upper_bound = np.percentile(bootstrap_means, upper_percentile)\n",
        "\n",
        "  return lower_bound, upper_bound\n",
        "\n",
        "\n",
        "# 例：標本データから母集団平均の95%信頼区間をパーセンタイル法で推定\n",
        "sample_data = [10, 12, 15, 18, 20, 22, 25]\n",
        "lower_bound, upper_bound = percentile_bootstrap_confidence_interval(sample_data)\n",
        "\n",
        "print(f\"パーセンタイル法による95%信頼区間: [{lower_bound}, {upper_bound}]\")\n"
      ],
      "metadata": {
        "colab": {
          "base_uri": "https://localhost:8080/"
        },
        "id": "AUQR9gnLqm8-",
        "outputId": "24538ed0-9769-4bb0-c641-d2af619ab299"
      },
      "execution_count": null,
      "outputs": [
        {
          "output_type": "stream",
          "name": "stdout",
          "text": [
            "パーセンタイル法による95%信頼区間: [13.714285714285714, 21.285714285714285]\n"
          ]
        }
      ]
    },
    {
      "cell_type": "code",
      "source": [
        "# prompt: BCa 法による区間推定をしてください。\n",
        "\n",
        "import numpy as np\n",
        "from scipy import stats\n",
        "\n",
        "def bca_confidence_interval(sample_data, confidence_level=0.95, num_bootstraps=1000):\n",
        "  \"\"\"\n",
        "  BCa 法を用いて母集団平均の信頼区間を推定します。\n",
        "\n",
        "  Args:\n",
        "    sample_data: 標本データのリストまたはNumPy配列。\n",
        "    confidence_level: 信頼水準（デフォルトは0.95）。\n",
        "    num_bootstraps: ブートストラップサンプリングの回数（デフォルトは1000）。\n",
        "\n",
        "  Returns:\n",
        "    母集団平均の信頼区間の下限、信頼区間の上限のタプル。\n",
        "  \"\"\"\n",
        "\n",
        "  bootstrap_means = []\n",
        "  for _ in range(num_bootstraps):\n",
        "    bootstrap_sample = np.random.choice(sample_data, size=len(sample_data), replace=True)\n",
        "    bootstrap_means.append(np.mean(bootstrap_sample))\n",
        "\n",
        "  sample_mean = np.mean(sample_data)\n",
        "  z0 = stats.norm.ppf((1 - confidence_level) / 2)  # 標準正規分布の分位点\n",
        "\n",
        "  # ジャックナイフ法によるバイアス補正と加速因子\n",
        "  bias_correction = np.mean([1 if x <= sample_mean else 0 for x in bootstrap_means])\n",
        "  z_bias_correction = stats.norm.ppf(bias_correction)\n",
        "\n",
        "  # 加速因子（ここでは、単純な近似を用いています）\n",
        "  acceleration_factor = 0  # 計算が複雑になるため、ここでは0で近似\n",
        "\n",
        "  # BCa 信頼区間の上限と下限\n",
        "  lower_z = z_bias_correction + (z_bias_correction + z0) / (1 - acceleration_factor * (z_bias_correction + z0))\n",
        "  upper_z = z_bias_correction + (z_bias_correction - z0) / (1 - acceleration_factor * (z_bias_correction - z0))\n",
        "\n",
        "  lower_bound = np.percentile(bootstrap_means, stats.norm.cdf(lower_z) * 100)\n",
        "  upper_bound = np.percentile(bootstrap_means, stats.norm.cdf(upper_z) * 100)\n",
        "\n",
        "  return lower_bound, upper_bound\n",
        "\n",
        "# 例：標本データから母集団平均の95%信頼区間をBCa法で推定\n",
        "sample_data = [10, 12, 15, 18, 20, 22, 25]\n",
        "lower_bound, upper_bound = bca_confidence_interval(sample_data)\n",
        "\n",
        "print(f\"BCa法による95%信頼区間: [{lower_bound}, {upper_bound}]\")\n"
      ],
      "metadata": {
        "colab": {
          "base_uri": "https://localhost:8080/"
        },
        "id": "XvtQSNyLqss1",
        "outputId": "50f2bcb1-e163-47ee-b04f-323315571e79"
      },
      "execution_count": null,
      "outputs": [
        {
          "output_type": "stream",
          "name": "stdout",
          "text": [
            "BCa法による95%信頼区間: [13.675520755821315, 21.285714285714285]\n"
          ]
        }
      ]
    },
    {
      "cell_type": "code",
      "source": [
        "# prompt: メディエーションの検定をしてください。\n",
        "\n",
        "!pip install pingouin\n",
        "\n",
        "import pandas as pd\n",
        "import pingouin as pg\n",
        "\n",
        "# データの準備（例）\n",
        "data = pd.DataFrame({\n",
        "    'X': [1, 2, 3, 4, 5, 6, 7, 8, 9, 10],\n",
        "    'M': [2, 4, 5, 6, 7, 8, 9, 11, 12, 13],\n",
        "    'Y': [3, 5, 7, 8, 9, 10, 11, 13, 14, 15]\n",
        "})\n",
        "\n",
        "# メディエーション分析の実行\n",
        "model = pg.mediation_analysis(data=data, x='X', m='M', y='Y')\n",
        "print(model)\n",
        "\n"
      ],
      "metadata": {
        "colab": {
          "base_uri": "https://localhost:8080/"
        },
        "id": "X_nRGCDAqyET",
        "outputId": "4ef4521a-c0f0-40db-f478-0c6e362483c7"
      },
      "execution_count": null,
      "outputs": [
        {
          "output_type": "stream",
          "name": "stdout",
          "text": [
            "Collecting pingouin\n",
            "  Downloading pingouin-0.5.5-py3-none-any.whl.metadata (19 kB)\n",
            "Requirement already satisfied: matplotlib in /usr/local/lib/python3.10/dist-packages (from pingouin) (3.7.1)\n",
            "Requirement already satisfied: numpy in /usr/local/lib/python3.10/dist-packages (from pingouin) (1.26.4)\n",
            "Requirement already satisfied: pandas>=1.5 in /usr/local/lib/python3.10/dist-packages (from pingouin) (2.1.4)\n",
            "Collecting pandas-flavor (from pingouin)\n",
            "  Downloading pandas_flavor-0.6.0-py3-none-any.whl.metadata (6.3 kB)\n",
            "Requirement already satisfied: scikit-learn>=1.2 in /usr/local/lib/python3.10/dist-packages (from pingouin) (1.5.2)\n",
            "Requirement already satisfied: scipy in /usr/local/lib/python3.10/dist-packages (from pingouin) (1.13.1)\n",
            "Requirement already satisfied: seaborn in /usr/local/lib/python3.10/dist-packages (from pingouin) (0.13.1)\n",
            "Requirement already satisfied: statsmodels in /usr/local/lib/python3.10/dist-packages (from pingouin) (0.14.3)\n",
            "Requirement already satisfied: tabulate in /usr/local/lib/python3.10/dist-packages (from pingouin) (0.9.0)\n",
            "Requirement already satisfied: python-dateutil>=2.8.2 in /usr/local/lib/python3.10/dist-packages (from pandas>=1.5->pingouin) (2.8.2)\n",
            "Requirement already satisfied: pytz>=2020.1 in /usr/local/lib/python3.10/dist-packages (from pandas>=1.5->pingouin) (2024.2)\n",
            "Requirement already satisfied: tzdata>=2022.1 in /usr/local/lib/python3.10/dist-packages (from pandas>=1.5->pingouin) (2024.1)\n",
            "Requirement already satisfied: joblib>=1.2.0 in /usr/local/lib/python3.10/dist-packages (from scikit-learn>=1.2->pingouin) (1.4.2)\n",
            "Requirement already satisfied: threadpoolctl>=3.1.0 in /usr/local/lib/python3.10/dist-packages (from scikit-learn>=1.2->pingouin) (3.5.0)\n",
            "Requirement already satisfied: contourpy>=1.0.1 in /usr/local/lib/python3.10/dist-packages (from matplotlib->pingouin) (1.3.0)\n",
            "Requirement already satisfied: cycler>=0.10 in /usr/local/lib/python3.10/dist-packages (from matplotlib->pingouin) (0.12.1)\n",
            "Requirement already satisfied: fonttools>=4.22.0 in /usr/local/lib/python3.10/dist-packages (from matplotlib->pingouin) (4.53.1)\n",
            "Requirement already satisfied: kiwisolver>=1.0.1 in /usr/local/lib/python3.10/dist-packages (from matplotlib->pingouin) (1.4.7)\n",
            "Requirement already satisfied: packaging>=20.0 in /usr/local/lib/python3.10/dist-packages (from matplotlib->pingouin) (24.1)\n",
            "Requirement already satisfied: pillow>=6.2.0 in /usr/local/lib/python3.10/dist-packages (from matplotlib->pingouin) (10.4.0)\n",
            "Requirement already satisfied: pyparsing>=2.3.1 in /usr/local/lib/python3.10/dist-packages (from matplotlib->pingouin) (3.1.4)\n",
            "Requirement already satisfied: xarray in /usr/local/lib/python3.10/dist-packages (from pandas-flavor->pingouin) (2024.9.0)\n",
            "Requirement already satisfied: patsy>=0.5.6 in /usr/local/lib/python3.10/dist-packages (from statsmodels->pingouin) (0.5.6)\n",
            "Requirement already satisfied: six in /usr/local/lib/python3.10/dist-packages (from patsy>=0.5.6->statsmodels->pingouin) (1.16.0)\n",
            "Downloading pingouin-0.5.5-py3-none-any.whl (204 kB)\n",
            "\u001b[2K   \u001b[90m━━━━━━━━━━━━━━━━━━━━━━━━━━━━━━━━━━━━━━━━\u001b[0m \u001b[32m204.4/204.4 kB\u001b[0m \u001b[31m3.7 MB/s\u001b[0m eta \u001b[36m0:00:00\u001b[0m\n",
            "\u001b[?25hDownloading pandas_flavor-0.6.0-py3-none-any.whl (7.2 kB)\n",
            "Installing collected packages: pandas-flavor, pingouin\n",
            "Successfully installed pandas-flavor-0.6.0 pingouin-0.5.5\n",
            "       path      coef        se          pval  CI[2.5%]  CI[97.5%]  sig\n",
            "0     M ~ X  1.181818  0.036364  8.756961e-10  1.097963   1.265673  Yes\n",
            "1     Y ~ M  1.080965  0.030054  3.911154e-10  1.011660   1.150269  Yes\n",
            "2     Total  1.278788  0.049050  5.030692e-09  1.165679   1.391897  Yes\n",
            "3    Direct  0.170833  0.434839  7.061080e-01 -0.857397   1.199064   No\n",
            "4  Indirect  1.107955  0.524850  3.200000e-02  0.005265   2.163317  Yes\n"
          ]
        }
      ]
    },
    {
      "cell_type": "code",
      "source": [
        "# prompt: ブートストラップ単回帰をしてください。\n",
        "\n",
        "import numpy as np\n",
        "from scipy import stats\n",
        "import pandas as pd\n",
        "\n",
        "def bootstrap_simple_linear_regression(x, y, num_bootstraps=1000):\n",
        "  \"\"\"\n",
        "  ブートストラップ法を用いて単回帰分析を行います。\n",
        "\n",
        "  Args:\n",
        "    x: 説明変数。\n",
        "    y: 目的変数。\n",
        "    num_bootstraps: ブートストラップサンプリングの回数。\n",
        "\n",
        "  Returns:\n",
        "    傾き、切片、傾きの標準誤差、切片の標準誤差のリスト。\n",
        "  \"\"\"\n",
        "\n",
        "  n = len(x)\n",
        "  slopes = []\n",
        "  intercepts = []\n",
        "  slope_std_errors = []\n",
        "  intercept_std_errors = []\n",
        "\n",
        "  for _ in range(num_bootstraps):\n",
        "    # 復元抽出で標本を再作成\n",
        "    bootstrap_indices = np.random.choice(n, size=n, replace=True)\n",
        "    x_bootstrap = x[bootstrap_indices]\n",
        "    y_bootstrap = y[bootstrap_indices]\n",
        "\n",
        "    # 単回帰分析\n",
        "    slope, intercept, r_value, p_value, std_err = stats.linregress(x_bootstrap, y_bootstrap)\n",
        "    slopes.append(slope)\n",
        "    intercepts.append(intercept)\n",
        "    slope_std_errors.append(std_err)\n",
        "    intercept_std_errors.append(std_err)\n",
        "\n",
        "  return slopes, intercepts, slope_std_errors, intercept_std_errors\n",
        "\n",
        "\n",
        "# 例：ブートストラップ単回帰分析\n",
        "x = np.array([1, 2, 3, 4, 5, 6, 7, 8, 9, 10])\n",
        "y = np.array([2, 4, 5, 6, 7, 8, 9, 11, 12, 13])\n",
        "\n",
        "slopes, intercepts, slope_std_errors, intercept_std_errors = bootstrap_simple_linear_regression(x, y)\n",
        "\n",
        "# ブートストラップ推定値の平均と標準偏差を計算\n",
        "estimated_slope = np.mean(slopes)\n",
        "estimated_intercept = np.mean(intercepts)\n",
        "estimated_slope_std_error = np.mean(slope_std_errors)\n",
        "estimated_intercept_std_error = np.mean(intercept_std_errors)\n",
        "\n",
        "print(f\"傾きのブートストラップ推定値: {estimated_slope}\")\n",
        "print(f\"切片のブートストラップ推定値: {estimated_intercept}\")\n",
        "print(f\"傾きの標準誤差のブートストラップ推定値: {estimated_slope_std_error}\")\n",
        "print(f\"切片の標準誤差のブートストラップ推定値: {estimated_intercept_std_error}\")\n",
        "\n",
        "# 信頼区間を計算（95%信頼区間）\n",
        "lower_bound_slope = np.percentile(slopes, 2.5)\n",
        "upper_bound_slope = np.percentile(slopes, 97.5)\n",
        "print(f\"傾きのブートストラップ信頼区間（95%）: [{lower_bound_slope}, {upper_bound_slope}]\")\n",
        "\n",
        "lower_bound_intercept = np.percentile(intercepts, 2.5)\n",
        "upper_bound_intercept = np.percentile(intercepts, 97.5)\n",
        "print(f\"切片のブートストラップ信頼区間（95%）: [{lower_bound_intercept}, {upper_bound_intercept}]\")\n"
      ],
      "metadata": {
        "colab": {
          "base_uri": "https://localhost:8080/"
        },
        "id": "akDZ_lNuq47O",
        "outputId": "f55603af-5c35-414e-d981-dabaa99b4baa"
      },
      "execution_count": null,
      "outputs": [
        {
          "output_type": "stream",
          "name": "stdout",
          "text": [
            "傾きのブートストラップ推定値: 1.1775486883490434\n",
            "切片のブートストラップ推定値: 1.2192666788197386\n",
            "傾きの標準誤差のブートストラップ推定値: 0.034966432029869265\n",
            "切片の標準誤差のブートストラップ推定値: 0.034966432029869265\n",
            "傾きのブートストラップ信頼区間（95%）: [1.0958487737852354, 1.242994654973755]\n",
            "切片のブートストラップ信頼区間（95%）: [0.7708426443202995, 1.670065730150445]\n"
          ]
        }
      ]
    },
    {
      "cell_type": "code",
      "source": [
        "# prompt: ブートストラップ回帰をしてください。\n",
        "\n",
        "import pandas as pd\n",
        "import numpy as np\n",
        "def bootstrap_regression(X, y, model, num_bootstraps=1000):\n",
        "  \"\"\"\n",
        "  ブートストラップ法を用いて回帰分析を行います。\n",
        "\n",
        "  Args:\n",
        "    X: 説明変数のデータフレームまたはNumPy配列。\n",
        "    y: 目的変数のリストまたはNumPy配列。\n",
        "    model: 使用する回帰モデル。\n",
        "    num_bootstraps: ブートストラップサンプリングの回数。\n",
        "\n",
        "  Returns:\n",
        "    係数のブートストラップ標本。\n",
        "  \"\"\"\n",
        "\n",
        "  n = len(y)\n",
        "  coef_samples = []\n",
        "\n",
        "  for _ in range(num_bootstraps):\n",
        "    # 復元抽出で標本を再作成\n",
        "    bootstrap_indices = np.random.choice(n, size=n, replace=True)\n",
        "    X_bootstrap = X.iloc[bootstrap_indices]\n",
        "    y_bootstrap = y[bootstrap_indices]\n",
        "\n",
        "    # 回帰モデルを適合\n",
        "    model.fit(X_bootstrap, y_bootstrap)\n",
        "\n",
        "    # 係数を保存\n",
        "    coef_samples.append(model.coef_)\n",
        "\n",
        "  return coef_samples\n",
        "\n",
        "\n",
        "# 例：ブートストラップ回帰分析\n",
        "from sklearn.linear_model import LinearRegression\n",
        "\n",
        "# データの準備\n",
        "X = pd.DataFrame({'x1': [1, 2, 3, 4, 5], 'x2': [2, 3, 1, 4, 5]})\n",
        "y = [2, 4, 5, 4, 6]\n",
        "\n",
        "# モデルの初期化\n",
        "model = LinearRegression()\n",
        "\n",
        "# ブートストラップ回帰の実行\n",
        "coef_samples = bootstrap_regression(X, y, model)\n",
        "\n",
        "# ブートストラップ標本から係数の平均と信頼区間を計算\n",
        "estimated_coef = np.mean(coef_samples, axis=0)\n",
        "lower_bound_coef = np.percentile(coef_samples, 2.5, axis=0)\n",
        "upper_bound_coef = np.percentile(coef_samples, 97.5, axis=0)\n",
        "\n",
        "print(f\"係数のブートストラップ推定値: {estimated_coef}\")\n",
        "print(f\"係数の95%信頼区間 (下限): {lower_bound_coef}\")\n",
        "print(f\"係数の95%信頼区間 (上限): {upper_bound_coef}\")\n"
      ],
      "metadata": {
        "colab": {
          "base_uri": "https://localhost:8080/",
          "height": 343
        },
        "id": "IOm3fqIXq-O2",
        "outputId": "e4848b14-a0ae-45b3-b843-72decf5fb842"
      },
      "execution_count": null,
      "outputs": [
        {
          "output_type": "error",
          "ename": "TypeError",
          "evalue": "only integer scalar arrays can be converted to a scalar index",
          "traceback": [
            "\u001b[0;31m---------------------------------------------------------------------------\u001b[0m",
            "\u001b[0;31mTypeError\u001b[0m                                 Traceback (most recent call last)",
            "\u001b[0;32m<ipython-input-20-3a3078fca6f8>\u001b[0m in \u001b[0;36m<cell line: 48>\u001b[0;34m()\u001b[0m\n\u001b[1;32m     46\u001b[0m \u001b[0;34m\u001b[0m\u001b[0m\n\u001b[1;32m     47\u001b[0m \u001b[0;31m# ブートストラップ回帰の実行\u001b[0m\u001b[0;34m\u001b[0m\u001b[0;34m\u001b[0m\u001b[0m\n\u001b[0;32m---> 48\u001b[0;31m \u001b[0mcoef_samples\u001b[0m \u001b[0;34m=\u001b[0m \u001b[0mbootstrap_regression\u001b[0m\u001b[0;34m(\u001b[0m\u001b[0mX\u001b[0m\u001b[0;34m,\u001b[0m \u001b[0my\u001b[0m\u001b[0;34m,\u001b[0m \u001b[0mmodel\u001b[0m\u001b[0;34m)\u001b[0m\u001b[0;34m\u001b[0m\u001b[0;34m\u001b[0m\u001b[0m\n\u001b[0m\u001b[1;32m     49\u001b[0m \u001b[0;34m\u001b[0m\u001b[0m\n\u001b[1;32m     50\u001b[0m \u001b[0;31m# ブートストラップ標本から係数の平均と信頼区間を計算\u001b[0m\u001b[0;34m\u001b[0m\u001b[0;34m\u001b[0m\u001b[0m\n",
            "\u001b[0;32m<ipython-input-20-3a3078fca6f8>\u001b[0m in \u001b[0;36mbootstrap_regression\u001b[0;34m(X, y, model, num_bootstraps)\u001b[0m\n\u001b[1;32m     24\u001b[0m     \u001b[0mbootstrap_indices\u001b[0m \u001b[0;34m=\u001b[0m \u001b[0mnp\u001b[0m\u001b[0;34m.\u001b[0m\u001b[0mrandom\u001b[0m\u001b[0;34m.\u001b[0m\u001b[0mchoice\u001b[0m\u001b[0;34m(\u001b[0m\u001b[0mn\u001b[0m\u001b[0;34m,\u001b[0m \u001b[0msize\u001b[0m\u001b[0;34m=\u001b[0m\u001b[0mn\u001b[0m\u001b[0;34m,\u001b[0m \u001b[0mreplace\u001b[0m\u001b[0;34m=\u001b[0m\u001b[0;32mTrue\u001b[0m\u001b[0;34m)\u001b[0m\u001b[0;34m\u001b[0m\u001b[0;34m\u001b[0m\u001b[0m\n\u001b[1;32m     25\u001b[0m     \u001b[0mX_bootstrap\u001b[0m \u001b[0;34m=\u001b[0m \u001b[0mX\u001b[0m\u001b[0;34m.\u001b[0m\u001b[0miloc\u001b[0m\u001b[0;34m[\u001b[0m\u001b[0mbootstrap_indices\u001b[0m\u001b[0;34m]\u001b[0m\u001b[0;34m\u001b[0m\u001b[0;34m\u001b[0m\u001b[0m\n\u001b[0;32m---> 26\u001b[0;31m     \u001b[0my_bootstrap\u001b[0m \u001b[0;34m=\u001b[0m \u001b[0my\u001b[0m\u001b[0;34m[\u001b[0m\u001b[0mbootstrap_indices\u001b[0m\u001b[0;34m]\u001b[0m\u001b[0;34m\u001b[0m\u001b[0;34m\u001b[0m\u001b[0m\n\u001b[0m\u001b[1;32m     27\u001b[0m \u001b[0;34m\u001b[0m\u001b[0m\n\u001b[1;32m     28\u001b[0m     \u001b[0;31m# 回帰モデルを適合\u001b[0m\u001b[0;34m\u001b[0m\u001b[0;34m\u001b[0m\u001b[0m\n",
            "\u001b[0;31mTypeError\u001b[0m: only integer scalar arrays can be converted to a scalar index"
          ]
        }
      ]
    },
    {
      "cell_type": "code",
      "source": [
        "# prompt: 階層的クラスター分析をしてください。\n",
        "\n",
        "import pandas as pd\n",
        "from sklearn.cluster import AgglomerativeClustering\n",
        "import matplotlib.pyplot as plt\n",
        "import seaborn as sns\n",
        "\n",
        "# データの準備（例）\n",
        "data = pd.DataFrame({\n",
        "    'feature1': [1, 2, 3, 4, 5, 6, 7, 8, 9, 10],\n",
        "    'feature2': [2, 4, 5, 6, 7, 8, 9, 11, 12, 13]\n",
        "})\n",
        "\n",
        "# 階層的クラスター分析の実行\n",
        "model = AgglomerativeClustering(n_clusters=2, linkage='ward')  # n_clusters: クラスタ数、linkage: 結合方法\n",
        "labels = model.fit_predict(data)\n",
        "\n",
        "# 結果の表示\n",
        "print(f\"クラスタラベル: {labels}\")\n",
        "\n",
        "# 可視化（散布図）\n",
        "plt.figure(figsize=(8, 6))\n",
        "sns.scatterplot(x='feature1', y='feature2', hue=labels, data=data)\n",
        "plt.title('Hierarchical Clustering')\n",
        "plt.show()\n",
        "\n",
        "# 樹形図の表示\n",
        "from scipy.cluster.hierarchy import dendrogram, linkage\n",
        "\n",
        "linkage_matrix = linkage(data, method='ward')\n",
        "dendrogram(linkage_matrix)\n",
        "plt.title('Dendrogram')\n",
        "plt.show()\n"
      ],
      "metadata": {
        "colab": {
          "base_uri": "https://localhost:8080/",
          "height": 1000
        },
        "id": "bwA5PI80rDuK",
        "outputId": "49fff286-baad-41cd-c633-33463065597e"
      },
      "execution_count": null,
      "outputs": [
        {
          "output_type": "stream",
          "name": "stdout",
          "text": [
            "クラスタラベル: [0 0 0 0 0 0 0 1 1 1]\n"
          ]
        },
        {
          "output_type": "display_data",
          "data": {
            "text/plain": [
              "<Figure size 800x600 with 1 Axes>"
            ],
            "image/png": "[encoded data removed]"
          },
          "metadata": {}
        },
        {
          "output_type": "display_data",
          "data": {
            "text/plain": [
              "<Figure size 640x480 with 1 Axes>"
            ],
            "image/png": "[encoded data removed]"
          },
          "metadata": {}
        }
      ]
    },
    {
      "cell_type": "code",
      "source": [
        "# prompt: ブートストラップ確率と樹形図を求めてください。\n",
        "\n",
        "import numpy as np\n",
        "import pandas as pd\n",
        "from scipy.cluster.hierarchy import dendrogram, linkage\n",
        "import matplotlib.pyplot as plt\n",
        "import seaborn as sns\n",
        "from sklearn.cluster import AgglomerativeClustering\n",
        "\n",
        "# データの準備（例）\n",
        "data = pd.DataFrame({\n",
        "    'feature1': [1, 2, 3, 4, 5, 6, 7, 8, 9, 10],\n",
        "    'feature2': [2, 4, 5, 6, 7, 8, 9, 11, 12, 13]\n",
        "})\n",
        "\n",
        "# 階層的クラスター分析の実行\n",
        "linkage_matrix = linkage(data, method='ward')\n",
        "\n",
        "# 樹形図の表示\n",
        "plt.figure(figsize=(10, 6))\n",
        "dendrogram(linkage_matrix, labels=data.index)\n",
        "plt.title('Dendrogram')\n",
        "plt.show()\n",
        "\n",
        "# ブートストラップ確率の計算\n",
        "def bootstrap_cluster_probability(data, num_bootstraps=1000):\n",
        "  \"\"\"\n",
        "  ブートストラップ法を用いて各データポイントのクラスタ所属確率を推定します。\n",
        "\n",
        "  Args:\n",
        "    data: データフレーム。\n",
        "    num_bootstraps: ブートストラップサンプリングの回数。\n",
        "\n",
        "  Returns:\n",
        "    各データポイントのクラスタ所属確率。\n",
        "  \"\"\"\n",
        "\n",
        "  n = len(data)\n",
        "  cluster_probabilities = np.zeros((n, 2))  # 2つのクラスタを想定\n",
        "\n",
        "  for _ in range(num_bootstraps):\n",
        "    # 復元抽出で標本を再作成\n",
        "    bootstrap_indices = np.random.choice(n, size=n, replace=True)\n",
        "    bootstrap_data = data.iloc[bootstrap_indices]\n",
        "\n",
        "    # 階層的クラスター分析\n",
        "    model = AgglomerativeClustering(n_clusters=2, linkage='ward')\n",
        "    labels = model.fit_predict(bootstrap_data)\n",
        "\n",
        "    # 各データポイントのクラスタ所属確率を更新\n",
        "    for i, label in enumerate(labels):\n",
        "      cluster_probabilities[bootstrap_indices[i], label] += 1\n",
        "\n",
        "  # 確率に変換\n",
        "  cluster_probabilities /= num_bootstraps\n",
        "\n",
        "  return cluster_probabilities\n",
        "\n",
        "# ブートストラップ確率を計算\n",
        "cluster_probabilities = bootstrap_cluster_probability(data)\n",
        "\n",
        "# 結果を表示\n",
        "for i in range(len(data)):\n",
        "  print(f\"データポイント {i}: クラスタ0の確率 = {cluster_probabilities[i, 0]:.3f}, クラスタ1の確率 = {cluster_probabilities[i, 1]:.3f}\")\n",
        "\n"
      ],
      "metadata": {
        "colab": {
          "base_uri": "https://localhost:8080/",
          "height": 729
        },
        "id": "VhZ9ygc3rI_2",
        "outputId": "188cf3aa-072a-45a1-90c5-473468cdf834"
      },
      "execution_count": null,
      "outputs": [
        {
          "output_type": "display_data",
          "data": {
            "text/plain": [
              "<Figure size 1000x600 with 1 Axes>"
            ],
            "image/png": "[encoded data removed]"
          },
          "metadata": {}
        },
        {
          "output_type": "stream",
          "name": "stdout",
          "text": [
            "データポイント 0: クラスタ0の確率 = 0.527, クラスタ1の確率 = 0.485\n",
            "データポイント 1: クラスタ0の確率 = 0.525, クラスタ1の確率 = 0.522\n",
            "データポイント 2: クラスタ0の確率 = 0.511, クラスタ1の確率 = 0.434\n",
            "データポイント 3: クラスタ0の確率 = 0.760, クラスタ1の確率 = 0.235\n",
            "データポイント 4: クラスタ0の確率 = 0.917, クラスタ1の確率 = 0.079\n",
            "データポイント 5: クラスタ0の確率 = 0.907, クラスタ1の確率 = 0.086\n",
            "データポイント 6: クラスタ0の確率 = 0.772, クラスタ1の確率 = 0.233\n",
            "データポイント 7: クラスタ0の確率 = 0.480, クラスタ1の確率 = 0.547\n",
            "データポイント 8: クラスタ0の確率 = 0.412, クラスタ1の確率 = 0.599\n",
            "データポイント 9: クラスタ0の確率 = 0.385, クラスタ1の確率 = 0.584\n"
          ]
        }
      ]
    },
    {
      "cell_type": "code",
      "source": [
        "# prompt: ジャックナイフ法を利用してください。\n",
        "\n",
        "import numpy as np\n",
        "from scipy import stats\n",
        "\n",
        "def jackknife_estimate(data, statistic_func):\n",
        "  \"\"\"\n",
        "  ジャックナイフ法を用いて統計量の推定値と標準誤差を計算します。\n",
        "\n",
        "  Args:\n",
        "    data: データのリストまたはNumPy配列。\n",
        "    statistic_func: 統計量を計算する関数。\n",
        "\n",
        "  Returns:\n",
        "    ジャックナイフ推定値、ジャックナイフ標準誤差。\n",
        "  \"\"\"\n",
        "\n",
        "  n = len(data)\n",
        "  jackknife_estimates = []\n",
        "\n",
        "  for i in range(n):\n",
        "    # i 番目のデータを除いたサブサンプルを作成\n",
        "    subsample = np.delete(data, i)\n",
        "    # サブサンプルから統計量を計算\n",
        "    jackknife_estimates.append(statistic_func(subsample))\n",
        "\n",
        "  # ジャックナイフ推定値を計算\n",
        "  jackknife_estimate_value = np.mean(jackknife_estimates)\n",
        "\n",
        "  # ジャックナイフ標準誤差を計算\n",
        "  jackknife_standard_error = np.sqrt(((n - 1) / n) * np.sum((jackknife_estimates - jackknife_estimate_value) ** 2))\n",
        "\n",
        "  return jackknife_estimate_value, jackknife_standard_error\n",
        "\n",
        "\n",
        "# 例：ジャックナイフ法を用いて平均値を推定\n",
        "sample_data = [10, 12, 15, 18, 20, 22, 25]\n",
        "\n",
        "# 平均値を計算する関数を定義\n",
        "def mean_func(data):\n",
        "  return np.mean(data)\n",
        "\n",
        "\n",
        "# ジャックナイフ法を実行\n",
        "jackknife_mean, jackknife_se = jackknife_estimate(sample_data, mean_func)\n",
        "\n",
        "\n",
        "print(f\"ジャックナイフ推定値（平均値）: {jackknife_mean}\")\n",
        "print(f\"ジャックナイフ標準誤差（平均値）: {jackknife_se}\")\n",
        "\n",
        "\n",
        "# 例：ジャックナイフ法を用いて中央値を推定\n",
        "sample_data = [10, 12, 15, 18, 20, 22, 25]\n",
        "\n",
        "# 中央値を計算する関数を定義\n",
        "def median_func(data):\n",
        "  return np.median(data)\n",
        "\n",
        "# ジャックナイフ法を実行\n",
        "jackknife_median, jackknife_se_median = jackknife_estimate(sample_data, median_func)\n",
        "\n",
        "print(f\"ジャックナイフ推定値（中央値）: {jackknife_median}\")\n",
        "print(f\"ジャックナイフ標準誤差（中央値）: {jackknife_se_median}\")\n"
      ],
      "metadata": {
        "colab": {
          "base_uri": "https://localhost:8080/"
        },
        "id": "K_olQSs1rQSe",
        "outputId": "b4de3a51-1020-4945-f57e-28da0f311739"
      },
      "execution_count": null,
      "outputs": [
        {
          "output_type": "stream",
          "name": "stdout",
          "text": [
            "ジャックナイフ推定値（平均値）: 17.428571428571427\n",
            "ジャックナイフ標準誤差（平均値）: 2.045403009039478\n",
            "ジャックナイフ推定値（中央値）: 17.714285714285715\n",
            "ジャックナイフ標準誤差（中央値）: 2.842821248876057\n"
          ]
        }
      ]
    },
    {
      "cell_type": "code",
      "source": [
        "# prompt: クロスバリデーションをしてください。\n",
        "\n",
        "from sklearn.model_selection import KFold\n",
        "from sklearn.linear_model import LinearRegression\n",
        "from sklearn.metrics import mean_squared_error\n",
        "import numpy as np\n",
        "\n",
        "# データの準備（例）\n",
        "X = np.array([[1], [2], [3], [4], [5], [6], [7], [8], [9], [10]])\n",
        "y = np.array([2, 4, 5, 4, 6, 7, 8, 9, 10, 12])\n",
        "\n",
        "# クロスバリデーションの設定\n",
        "n_splits = 5  # 分割数\n",
        "kf = KFold(n_splits=n_splits, shuffle=True, random_state=42)\n",
        "\n",
        "# モデルの初期化\n",
        "model = LinearRegression()\n",
        "\n",
        "# クロスバリデーションの実行\n",
        "mse_scores = []\n",
        "for train_index, test_index in kf.split(X):\n",
        "  X_train, X_test = X[train_index], X[test_index]\n",
        "  y_train, y_test = y[train_index], y[test_index]\n",
        "\n",
        "  # モデルを訓練\n",
        "  model.fit(X_train, y_train)\n",
        "\n",
        "  # テストデータで予測\n",
        "  y_pred = model.predict(X_test)\n",
        "\n",
        "  # 平均二乗誤差を計算\n",
        "  mse = mean_squared_error(y_test, y_pred)\n",
        "  mse_scores.append(mse)\n",
        "\n",
        "# 結果を表示\n",
        "print(f\"クロスバリデーションの平均二乗誤差: {np.mean(mse_scores)}\")\n"
      ],
      "metadata": {
        "colab": {
          "base_uri": "https://localhost:8080/"
        },
        "id": "IuLJlpeKrXSf",
        "outputId": "c334a622-872a-46c3-95e4-9b81e65b71fd"
      },
      "execution_count": null,
      "outputs": [
        {
          "output_type": "stream",
          "name": "stdout",
          "text": [
            "クロスバリデーションの平均二乗誤差: 0.6008557869959216\n"
          ]
        }
      ]
    }
  ]
}