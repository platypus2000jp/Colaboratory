{
  "nbformat": 4,
  "nbformat_minor": 0,
  "metadata": {
    "colab": {
      "provenance": [],
      "authorship_tag": "ABX9TyPD5ZV5yLlCK2GGXT+4stS2",
      "include_colab_link": true
    },
    "kernelspec": {
      "name": "python3",
      "display_name": "Python 3"
    },
    "language_info": {
      "name": "python"
    }
  },
  "cells": [
    {
      "cell_type": "markdown",
      "metadata": {
        "id": "view-in-github",
        "colab_type": "text"
      },
      "source": [
        "<a href=\"https://colab.research.google.com/github/platypus2000jp/Colaboratory/blob/main/%E5%8A%B4%E5%83%8D%E5%AE%89%E5%85%A8%E8%A1%9B%E7%94%9F%E6%B3%95%E3%81%AE%E3%82%AF%E3%82%A4%E3%82%BA.ipynb\" target=\"_parent\"><img src=\"https://colab.research.google.com/assets/colab-badge.svg\" alt=\"Open In Colab\"/></a>"
      ]
    },
    {
      "cell_type": "code",
      "execution_count": null,
      "metadata": {
        "colab": {
          "base_uri": "https://localhost:8080/"
        },
        "id": "_mMgCDEzNbyu",
        "outputId": "25bcf58a-d9f7-455f-f0a4-c73091b76927"
      },
      "outputs": [
        {
          "output_type": "stream",
          "name": "stdout",
          "text": [
            "\n",
            "問題 1: 労働安全衛生法の目的は？\n",
            "1. 労働者の安全と健康の確保を図り、労働災害を防止すること\n",
            "2. 労働者の賃金向上を図ること\n",
            "3. 労働環境の改善を図ること\n",
            "4. 労働者の能力開発を図ること\n"
          ]
        }
      ],
      "source": [
        "# prompt: 労働安全衛生法のクイズを出題します。クイズアプリを作ってください。もう一度挑戦しますか？の質問は不要です。次々問題を出してください。挑戦回数と正解回数を表示してください。\n",
        "\n",
        "import random\n",
        "\n",
        "questions = [\n",
        "    {\n",
        "        \"question\": \"労働安全衛生法の目的は？\",\n",
        "        \"options\": [\n",
        "            \"労働者の安全と健康の確保を図り、労働災害を防止すること\",\n",
        "            \"労働者の賃金向上を図ること\",\n",
        "            \"労働環境の改善を図ること\",\n",
        "            \"労働者の能力開発を図ること\"\n",
        "        ],\n",
        "        \"answer\": 0\n",
        "    },\n",
        "    {\n",
        "        \"question\": \"事業者は、労働災害を防止するために、どのような措置を講じる必要がありますか？\",\n",
        "        \"options\": [\n",
        "            \"労働者の健康診断を実施すること\",\n",
        "            \"安全衛生教育を実施すること\",\n",
        "            \"危険有害業務の改善を行うこと\",\n",
        "            \"上記全て\"\n",
        "        ],\n",
        "        \"answer\": 3\n",
        "    },\n",
        "    {\n",
        "        \"question\": \"労働安全衛生法で定められている「事業場」とは？\",\n",
        "        \"options\": [\n",
        "            \"工場のみ\",\n",
        "            \"事務所のみ\",\n",
        "            \"事業を行う場所\",\n",
        "            \"倉庫のみ\"\n",
        "        ],\n",
        "        \"answer\": 2\n",
        "    },\n",
        "    # 以下、問題を追加\n",
        "]\n",
        "\n",
        "challenge_count = 0\n",
        "correct_count = 0\n",
        "\n",
        "random.shuffle(questions)  # 問題の順番をランダムに\n",
        "\n",
        "for question_data in questions:\n",
        "    challenge_count += 1\n",
        "    print(f\"\\n問題 {challenge_count}: {question_data['question']}\")\n",
        "    for i, option in enumerate(question_data['options']):\n",
        "        print(f\"{i + 1}. {option}\")\n",
        "\n",
        "    while True:\n",
        "        try:\n",
        "            user_answer = int(input(\"あなたの解答 (番号を入力): \")) - 1\n",
        "            if 0 <= user_answer < len(question_data['options']):\n",
        "                break\n",
        "            else:\n",
        "                print(\"無効な入力です。選択肢の番号を入力してください。\")\n",
        "        except ValueError:\n",
        "            print(\"数値を入力してください。\")\n",
        "\n",
        "    if user_answer == question_data['answer']:\n",
        "        print(\"正解！\")\n",
        "        correct_count += 1\n",
        "    else:\n",
        "        print(f\"不正解… 正解は {question_data['options'][question_data['answer']]}\")\n",
        "\n",
        "print(f\"\\n挑戦回数: {challenge_count}\")\n",
        "print(f\"正解回数: {correct_count}\")"
      ]
    }
  ]
}