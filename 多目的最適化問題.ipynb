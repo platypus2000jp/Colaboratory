{
  "nbformat": 4,
  "nbformat_minor": 0,
  "metadata": {
    "colab": {
      "provenance": [],
      "authorship_tag": "ABX9TyNPgZ83AbD7JKBozk7clYHq",
      "include_colab_link": true
    },
    "kernelspec": {
      "name": "python3",
      "display_name": "Python 3"
    },
    "language_info": {
      "name": "python"
    }
  },
  "cells": [
    {
      "cell_type": "markdown",
      "metadata": {
        "id": "view-in-github",
        "colab_type": "text"
      },
      "source": [
        "<a href=\"https://colab.research.google.com/github/platypus2000jp/Colaboratory/blob/main/%E5%A4%9A%E7%9B%AE%E7%9A%84%E6%9C%80%E9%81%A9%E5%8C%96%E5%95%8F%E9%A1%8C.ipynb\" target=\"_parent\"><img src=\"https://colab.research.google.com/assets/colab-badge.svg\" alt=\"Open In Colab\"/></a>"
      ]
    },
    {
      "cell_type": "code",
      "execution_count": null,
      "metadata": {
        "colab": {
          "base_uri": "https://localhost:8080/",
          "height": 489
        },
        "id": "z9J651b72Xf0",
        "outputId": "9037acee-089e-494c-87f8-eab3868f2dc2"
      },
      "outputs": [
        {
          "output_type": "stream",
          "name": "stdout",
          "text": [
            "Requirement already satisfied: platypus in /usr/local/lib/python3.10/dist-packages (1.0)\n",
            "Requirement already satisfied: ply in /usr/local/lib/python3.10/dist-packages (from platypus) (3.11)\n",
            "Requirement already satisfied: plotly in /usr/local/lib/python3.10/dist-packages (5.24.1)\n",
            "Requirement already satisfied: tenacity>=6.2.0 in /usr/local/lib/python3.10/dist-packages (from plotly) (9.0.0)\n",
            "Requirement already satisfied: packaging in /usr/local/lib/python3.10/dist-packages (from plotly) (24.1)\n"
          ]
        },
        {
          "output_type": "error",
          "ename": "ImportError",
          "evalue": "cannot import name 'NSGAII' from 'platypus' (/usr/local/lib/python3.10/dist-packages/platypus/__init__.py)",
          "traceback": [
            "\u001b[0;31m---------------------------------------------------------------------------\u001b[0m",
            "\u001b[0;31mImportError\u001b[0m                               Traceback (most recent call last)",
            "\u001b[0;32m<ipython-input-3-c38fb0849f52>\u001b[0m in \u001b[0;36m<cell line: 7>\u001b[0;34m()\u001b[0m\n\u001b[1;32m      5\u001b[0m \u001b[0;34m\u001b[0m\u001b[0m\n\u001b[1;32m      6\u001b[0m \u001b[0;32mimport\u001b[0m \u001b[0mnumpy\u001b[0m \u001b[0;32mas\u001b[0m \u001b[0mnp\u001b[0m\u001b[0;34m\u001b[0m\u001b[0;34m\u001b[0m\u001b[0m\n\u001b[0;32m----> 7\u001b[0;31m \u001b[0;32mfrom\u001b[0m \u001b[0mplatypus\u001b[0m \u001b[0;32mimport\u001b[0m \u001b[0mNSGAII\u001b[0m\u001b[0;34m,\u001b[0m \u001b[0mProblem\u001b[0m\u001b[0;34m,\u001b[0m \u001b[0mReal\u001b[0m\u001b[0;34m\u001b[0m\u001b[0;34m\u001b[0m\u001b[0m\n\u001b[0m\u001b[1;32m      8\u001b[0m \u001b[0;32mimport\u001b[0m \u001b[0mplotly\u001b[0m\u001b[0;34m.\u001b[0m\u001b[0mgraph_objects\u001b[0m \u001b[0;32mas\u001b[0m \u001b[0mgo\u001b[0m\u001b[0;34m\u001b[0m\u001b[0;34m\u001b[0m\u001b[0m\n\u001b[1;32m      9\u001b[0m \u001b[0;34m\u001b[0m\u001b[0m\n",
            "\u001b[0;31mImportError\u001b[0m: cannot import name 'NSGAII' from 'platypus' (/usr/local/lib/python3.10/dist-packages/platypus/__init__.py)",
            "",
            "\u001b[0;31m---------------------------------------------------------------------------\u001b[0;32m\nNOTE: If your import is failing due to a missing package, you can\nmanually install dependencies using either !pip or !apt.\n\nTo view examples of installing some common dependencies, click the\n\"Open Examples\" button below.\n\u001b[0;31m---------------------------------------------------------------------------\u001b[0m\n"
          ],
          "errorDetails": {
            "actions": [
              {
                "action": "open_url",
                "actionText": "Open Examples",
                "url": "/notebooks/snippets/importing_libraries.ipynb"
              }
            ]
          }
        }
      ],
      "source": [
        "# prompt: 努力・友情・勝利を満たす多目的最適化問題にplatypusのライブラリを使用して、実験計画を作成してください。サンプルは漫画とします。plotlyで作図してください。\n",
        "\n",
        "!pip install platypus\n",
        "!pip install plotly\n",
        "\n",
        "import numpy as np\n",
        "from platypus import NSGAII, Problem, Real\n",
        "import plotly.graph_objects as go\n",
        "\n",
        "# 目的関数：努力、友情、勝利の3つを最大化\n",
        "def objective_function(variables):\n",
        "  effort = variables[0]\n",
        "  friendship = variables[1]\n",
        "  victory = variables[2]\n",
        "\n",
        "  # 漫画における努力、友情、勝利のバランスを考慮した目的関数\n",
        "  # 各要素の重みを調整して、それぞれの要素の重要度を表現\n",
        "  effort_weight = 1.0\n",
        "  friendship_weight = 1.0\n",
        "  victory_weight = 1.0\n",
        "\n",
        "  # 目的関数の値を計算\n",
        "  f1 = -effort * effort_weight  # 努力はコストとして扱う\n",
        "  f2 = friendship * friendship_weight\n",
        "  f3 = victory * victory_weight\n",
        "\n",
        "  return [f1, f2, f3]\n",
        "\n",
        "# 問題設定\n",
        "problem = Problem(3, 3)  # 決定変数3つ、目的関数3つ\n",
        "problem.types[:] = [Real(0, 10), Real(0, 10), Real(0, 10)]  # 各変数の範囲を0から10に設定\n",
        "problem.function = objective_function\n",
        "\n",
        "# アルゴリズム選択\n",
        "algorithm = NSGAII(problem)\n",
        "\n",
        "# 実行\n",
        "algorithm.run(100)\n",
        "\n",
        "# 結果の取得\n",
        "results = algorithm.result\n",
        "\n",
        "# plotlyで結果を可視化\n",
        "fig = go.Figure()\n",
        "\n",
        "# 努力、友情、勝利を3次元グラフで表示\n",
        "fig.add_trace(go.Scatter3d(\n",
        "    x=[s.objectives[0] for s in results],\n",
        "    y=[s.objectives[1] for s in results],\n",
        "    z=[s.objectives[2] for s in results],\n",
        "    mode='markers',\n",
        "    marker=dict(\n",
        "        size=5,\n",
        "        color='blue',\n",
        "    )\n",
        "))\n",
        "\n",
        "fig.update_layout(\n",
        "    scene=dict(\n",
        "        xaxis_title='努力',\n",
        "        yaxis_title='友情',\n",
        "        zaxis_title='勝利'\n",
        "    ),\n",
        "    title='多目的最適化結果 (漫画)'\n",
        ")\n",
        "\n",
        "fig.show()\n",
        "\n"
      ]
    }
  ]
}