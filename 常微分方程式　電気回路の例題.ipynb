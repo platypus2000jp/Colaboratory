{
  "nbformat": 4,
  "nbformat_minor": 0,
  "metadata": {
    "colab": {
      "provenance": [],
      "authorship_tag": "ABX9TyMzoDXsJ9v8SGsgki+BEPtb",
      "include_colab_link": true
    },
    "kernelspec": {
      "name": "python3",
      "display_name": "Python 3"
    },
    "language_info": {
      "name": "python"
    }
  },
  "cells": [
    {
      "cell_type": "markdown",
      "metadata": {
        "id": "view-in-github",
        "colab_type": "text"
      },
      "source": [
        "<a href=\"https://colab.research.google.com/github/platypus2000jp/Colaboratory/blob/main/%E5%B8%B8%E5%BE%AE%E5%88%86%E6%96%B9%E7%A8%8B%E5%BC%8F%E3%80%80%E9%9B%BB%E6%B0%97%E5%9B%9E%E8%B7%AF%E3%81%AE%E4%BE%8B%E9%A1%8C.ipynb\" target=\"_parent\"><img src=\"https://colab.research.google.com/assets/colab-badge.svg\" alt=\"Open In Colab\"/></a>"
      ]
    },
    {
      "cell_type": "code",
      "execution_count": null,
      "metadata": {
        "colab": {
          "base_uri": "https://localhost:8080/"
        },
        "id": "oM3xWRybSMkw",
        "outputId": "981e043f-c3ff-44ab-c4b5-f342b36207f5"
      },
      "outputs": [
        {
          "output_type": "stream",
          "name": "stdout",
          "text": [
            "Eq(y(x), (C1 + C2*x)*exp(-x))\n"
          ]
        }
      ],
      "source": [
        "# prompt: 常微分方程式の例題を示してしてください。SymPyを使ってください。\n",
        "\n",
        "from sympy import *\n",
        "\n",
        "# 変数と関数定義\n",
        "x = symbols('x')\n",
        "y = Function('y')(x)\n",
        "\n",
        "# 常微分方程式の定義\n",
        "# 例：y'' + 2y' + y = 0 (2階線形斉次微分方程式)\n",
        "diffeq = Eq(y.diff(x, 2) + 2*y.diff(x) + y, 0)\n",
        "\n",
        "# 解く\n",
        "sol = dsolve(diffeq, y)\n",
        "\n",
        "# 結果を表示\n",
        "print(sol)\n"
      ]
    },
    {
      "cell_type": "code",
      "source": [
        "# prompt: 電気回路の電圧を求めてください。常微分方程式の例題を示してしてください。SymPyを使ってください。\n",
        "\n",
        "from sympy import *\n",
        "\n",
        "# 変数と関数定義\n",
        "t = symbols('t')\n",
        "i = Function('i')(t)\n",
        "\n",
        "# 電気回路のパラメータ\n",
        "R = 10  # 抵抗 [Ω]\n",
        "L = 1   # インダクタンス [H]\n",
        "E = 10  # 電圧源 [V]\n",
        "\n",
        "# 回路方程式 (キルヒホッフの電圧則)\n",
        "diffeq = Eq(L*i.diff(t) + R*i, E)\n",
        "\n",
        "# 初期条件 (t=0 のときの電流)\n",
        "initial_conditions = {i.subs(t, 0): 0}\n",
        "\n",
        "# 解く\n",
        "sol = dsolve(diffeq, i, ics=initial_conditions)\n",
        "\n",
        "# 結果を表示\n",
        "print(sol)\n",
        "\n",
        "# 電圧を求める (電圧 = 抵抗 × 電流)\n",
        "voltage = R * sol.rhs\n",
        "\n",
        "print(\"\\n電圧:\")\n",
        "print(voltage)\n"
      ],
      "metadata": {
        "colab": {
          "base_uri": "https://localhost:8080/"
        },
        "id": "XfZSbQzOSlLX",
        "outputId": "075bfa54-50dc-49ee-f252-ccd8e8f925b6"
      },
      "execution_count": null,
      "outputs": [
        {
          "output_type": "stream",
          "name": "stdout",
          "text": [
            "Eq(i(t), 1 - exp(-10*t))\n",
            "\n",
            "電圧:\n",
            "10 - 10*exp(-10*t)\n"
          ]
        }
      ]
    },
    {
      "cell_type": "code",
      "source": [
        "# prompt: 電気回路の電流を求めてください。常微分方程式の例題を示してしてください。SymPyを使ってください。\n",
        "\n",
        "from sympy import *\n",
        "\n",
        "# 変数と関数定義\n",
        "t = symbols('t')\n",
        "i = Function('i')(t)\n",
        "\n",
        "# 電気回路のパラメータ\n",
        "R = 10  # 抵抗 [Ω]\n",
        "L = 1   # インダクタンス [H]\n",
        "E = 10  # 電圧源 [V]\n",
        "\n",
        "# 回路方程式 (キルヒホッフの電圧則)\n",
        "# L * di/dt + R * i = E\n",
        "diffeq = Eq(L*i.diff(t) + R*i, E)\n",
        "\n",
        "# 初期条件 (t=0 のときの電流)\n",
        "initial_conditions = {i.subs(t, 0): 0}\n",
        "\n",
        "# 解く\n",
        "sol = dsolve(diffeq, i, ics=initial_conditions)\n",
        "\n",
        "# 結果を表示\n",
        "print(\"電流:\")\n",
        "print(sol)\n",
        "\n",
        "# 電圧を求める (電圧 = 抵抗 × 電流)\n",
        "voltage = R * sol.rhs\n",
        "\n",
        "print(\"\\n電圧:\")\n",
        "print(voltage)\n"
      ],
      "metadata": {
        "colab": {
          "base_uri": "https://localhost:8080/"
        },
        "id": "67u7SnnLSsgZ",
        "outputId": "0f5703df-146e-4f32-9e27-3c0126c7681b"
      },
      "execution_count": null,
      "outputs": [
        {
          "output_type": "stream",
          "name": "stdout",
          "text": [
            "電流:\n",
            "Eq(i(t), 1 - exp(-10*t))\n",
            "\n",
            "電圧:\n",
            "10 - 10*exp(-10*t)\n"
          ]
        }
      ]
    },
    {
      "cell_type": "code",
      "source": [
        "# prompt: 電気回路の抵抗を求めてください。常微分方程式の例題を示してしてください。SymPyを使ってください。\n",
        "\n",
        "from sympy import *\n",
        "\n",
        "# 変数と関数定義\n",
        "t = symbols('t')\n",
        "i = Function('i')(t)\n",
        "R = symbols('R', positive=True)  # 抵抗 (未知数)\n",
        "\n",
        "# 電気回路のパラメータ\n",
        "L = 1   # インダクタンス [H]\n",
        "E = 10  # 電圧源 [V]\n",
        "\n",
        "# 回路方程式 (キルヒホッフの電圧則)\n",
        "diffeq = Eq(L*i.diff(t) + R*i, E)\n",
        "\n",
        "# 初期条件 (t=0 のときの電流)\n",
        "initial_conditions = {i.subs(t, 0): 0}\n",
        "\n",
        "# 解く\n",
        "sol = dsolve(diffeq, i, ics=initial_conditions)\n",
        "\n",
        "# 電流の式\n",
        "print(\"電流:\")\n",
        "print(sol)\n",
        "\n",
        "\n",
        "# ある時刻 t1 における電流値 i1 を測定したとする\n",
        "t1 = 1  # 時刻 [s]\n",
        "i1 = 5  # 電流値 [A]\n",
        "\n",
        "# 電流の式に t1 と i1 を代入して R について解く\n",
        "resistance = solve(sol.rhs.subs(t, t1) - i1, R)[0]\n",
        "\n",
        "\n",
        "print(\"\\n抵抗:\")\n",
        "print(resistance)\n"
      ],
      "metadata": {
        "colab": {
          "base_uri": "https://localhost:8080/"
        },
        "id": "DRadpL7gSxXv",
        "outputId": "308cd5d0-5b74-4cfa-a48e-016693b94e72"
      },
      "execution_count": null,
      "outputs": [
        {
          "output_type": "stream",
          "name": "stdout",
          "text": [
            "電流:\n",
            "Eq(i(t), 10/R - 10*exp(-R*t)/R)\n",
            "\n",
            "抵抗:\n",
            "LambertW(-2*exp(-2)) + 2\n"
          ]
        }
      ]
    },
    {
      "cell_type": "code",
      "source": [
        "# prompt: 電気回路の電力を求めてください。常微分方程式の例題を示してしてください。SymPyを使ってください。\n",
        "\n",
        "from sympy import *\n",
        "\n",
        "# 変数と関数定義\n",
        "t = symbols('t')\n",
        "i = Function('i')(t)\n",
        "R = 10  # 抵抗 [Ω]\n",
        "\n",
        "# 電気回路のパラメータ\n",
        "L = 1   # インダクタンス [H]\n",
        "E = 10  # 電圧源 [V]\n",
        "\n",
        "# 回路方程式 (キルヒホッフの電圧則)\n",
        "diffeq = Eq(L*i.diff(t) + R*i, E)\n",
        "\n",
        "# 初期条件 (t=0 のときの電流)\n",
        "initial_conditions = {i.subs(t, 0): 0}\n",
        "\n",
        "# 解く\n",
        "sol = dsolve(diffeq, i, ics=initial_conditions)\n",
        "\n",
        "# 電流の式\n",
        "print(\"電流:\")\n",
        "print(sol)\n",
        "\n",
        "# 電圧を求める (電圧 = 抵抗 × 電流)\n",
        "voltage = R * sol.rhs\n",
        "\n",
        "print(\"\\n電圧:\")\n",
        "print(voltage)\n",
        "\n",
        "# 電力 = 電圧 × 電流\n",
        "power = voltage * sol.rhs\n",
        "\n",
        "print(\"\\n電力:\")\n",
        "print(power)\n",
        "\n",
        "# 例：t=1 のときの電力\n",
        "t1 = 1\n",
        "power_at_t1 = power.subs(t, t1)\n",
        "\n",
        "print(\"\\nt=1 のときの電力:\")\n",
        "print(power_at_t1)\n"
      ],
      "metadata": {
        "colab": {
          "base_uri": "https://localhost:8080/"
        },
        "id": "mYWAgZ0DS1KS",
        "outputId": "b51f97b1-1bb5-4bad-93c4-1d6c3c89255e"
      },
      "execution_count": null,
      "outputs": [
        {
          "output_type": "stream",
          "name": "stdout",
          "text": [
            "電流:\n",
            "Eq(i(t), 1 - exp(-10*t))\n",
            "\n",
            "電圧:\n",
            "10 - 10*exp(-10*t)\n",
            "\n",
            "電力:\n",
            "(1 - exp(-10*t))*(10 - 10*exp(-10*t))\n",
            "\n",
            "t=1 のときの電力:\n",
            "(1 - exp(-10))*(10 - 10*exp(-10))\n"
          ]
        }
      ]
    },
    {
      "cell_type": "code",
      "source": [
        "# prompt: 電気回路のインピーダンスを求めてください。常微分方程式の例題を示してしてください。SymPyを使ってください。\n",
        "\n",
        "from sympy import *\n",
        "\n",
        "# 変数定義\n",
        "omega = symbols('omega', real=True)  # 角周波数\n",
        "R = symbols('R', positive=True)  # 抵抗\n",
        "L = symbols('L', positive=True)  # インダクタンス\n",
        "C = symbols('C', positive=True)  # キャパシタンス\n",
        "\n",
        "# インピーダンスの計算\n",
        "Z_R = R  # 抵抗のインピーダンス\n",
        "Z_L = I * omega * L  # インダクタンスのインピーダンス\n",
        "Z_C = 1 / (I * omega * C)  # キャパシタンスのインピーダンス\n",
        "\n",
        "\n",
        "# 直列回路の場合のインピーダンス\n",
        "Z_series = Z_R + Z_L + Z_C\n",
        "\n",
        "# 並列回路の場合のインピーダンス\n",
        "Z_parallel = 1 / (1 / Z_R + 1 / Z_L + 1 / Z_C)\n",
        "\n",
        "\n",
        "# 例：直列RLC回路\n",
        "print(\"直列RLC回路のインピーダンス:\")\n",
        "print(Z_series)\n",
        "\n",
        "\n",
        "# 例：交流電流の常微分方程式\n",
        "# RLC直列回路における電流i(t)の常微分方程式\n",
        "# L * d^2i/dt^2 + R * di/dt + i/C = E * sin(omega * t)\n",
        "# E: 電圧源の電圧\n",
        "t = symbols('t')\n",
        "i = Function('i')(t)\n",
        "E = symbols('E', real=True)\n",
        "\n",
        "diffeq = Eq(L*i.diff(t, 2) + R*i.diff(t) + i/C, E * sin(omega * t))\n",
        "\n",
        "print(\"\\nRLC直列回路の常微分方程式:\")\n",
        "print(diffeq)\n",
        "\n",
        "# 解く\n",
        "# sol = dsolve(diffeq, i)\n",
        "# print(sol)\n"
      ],
      "metadata": {
        "colab": {
          "base_uri": "https://localhost:8080/"
        },
        "id": "vrD5VXN9S6AT",
        "outputId": "9d521576-20ec-4d8f-aaca-ddf4b71eaeb1"
      },
      "execution_count": null,
      "outputs": [
        {
          "output_type": "stream",
          "name": "stdout",
          "text": [
            "直列RLC回路のインピーダンス:\n",
            "I*L*omega + R - I/(C*omega)\n",
            "\n",
            "RLC直列回路の常微分方程式:\n",
            "Eq(L*Derivative(i(t), (t, 2)) + R*Derivative(i(t), t) + i(t)/C, E*sin(omega*t))\n"
          ]
        }
      ]
    },
    {
      "cell_type": "code",
      "source": [
        "# prompt: 電気回路のリアクタンスを求めてください。常微分方程式の例題を示してしてください。SymPyを使ってください。\n",
        "\n",
        "from sympy import *\n",
        "\n",
        "# 変数定義\n",
        "omega = symbols('omega', real=True)  # 角周波数\n",
        "L = symbols('L', positive=True)  # インダクタンス\n",
        "C = symbols('C', positive=True)  # キャパシタンス\n",
        "\n",
        "# リアクタンスの計算\n",
        "X_L = omega * L  # インダクタンスのリアクタンス\n",
        "X_C = -1 / (omega * C)  # キャパシタンスのリアクタンス\n",
        "\n",
        "\n",
        "# 例：直列RLC回路におけるリアクタンス\n",
        "X_series = X_L + X_C\n",
        "\n",
        "print(\"直列RLC回路のリアクタンス:\")\n",
        "print(X_series)\n",
        "\n",
        "\n",
        "# 常微分方程式の例題 (RLC直列回路)\n",
        "# L * d^2i/dt^2 + R * di/dt + i/C = E * sin(omega * t)\n",
        "# E: 電圧源の電圧\n",
        "t = symbols('t')\n",
        "i = Function('i')(t)\n",
        "R = symbols('R', positive=True)  # 抵抗\n",
        "E = symbols('E', real=True)\n",
        "\n",
        "diffeq = Eq(L*i.diff(t, 2) + R*i.diff(t) + i/C, E * sin(omega * t))\n",
        "\n",
        "print(\"\\nRLC直列回路の常微分方程式:\")\n",
        "print(diffeq)\n"
      ],
      "metadata": {
        "colab": {
          "base_uri": "https://localhost:8080/"
        },
        "id": "Pnf3tR4DTCMV",
        "outputId": "a7d5651b-b4fa-4811-b417-8fd5d49373f5"
      },
      "execution_count": null,
      "outputs": [
        {
          "output_type": "stream",
          "name": "stdout",
          "text": [
            "直列RLC回路のリアクタンス:\n",
            "L*omega - 1/(C*omega)\n",
            "\n",
            "RLC直列回路の常微分方程式:\n",
            "Eq(L*Derivative(i(t), (t, 2)) + R*Derivative(i(t), t) + i(t)/C, E*sin(omega*t))\n"
          ]
        }
      ]
    }
  ]
}