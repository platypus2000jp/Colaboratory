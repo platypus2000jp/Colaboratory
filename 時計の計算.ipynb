{
  "cells": [
    {
      "cell_type": "markdown",
      "metadata": {
        "id": "view-in-github",
        "colab_type": "text"
      },
      "source": [
        "<a href=\"https://colab.research.google.com/github/platypus2000jp/Colaboratory/blob/main/%E6%99%82%E8%A8%88%E3%81%AE%E8%A8%88%E7%AE%97.ipynb\" target=\"_parent\"><img src=\"https://colab.research.google.com/assets/colab-badge.svg\" alt=\"Open In Colab\"/></a>"
      ]
    },
    {
      "cell_type": "code",
      "execution_count": null,
      "metadata": {
        "colab": {
          "background_save": true,
          "base_uri": "https://localhost:8080/"
        },
        "id": "CX_RAqjnBZHz",
        "outputId": "e1288416-14c3-492d-b117-f88d42e12999"
      },
      "outputs": [
        {
          "name": "stdout",
          "output_type": "stream",
          "text": [
            "午前4時1分から午前5時32分は何時間何分か？\n"
          ]
        }
      ],
      "source": [
        "# prompt: 時計の計算を問題を出してください。AからBは何時間か。時差は無しとします。もう一度挑戦しますか？の質問は不要です。次々問題を出してください。挑戦回数と正解回数を表示してください。\n",
        "\n",
        "import random\n",
        "\n",
        "challenge_count = 0\n",
        "correct_count = 0\n",
        "\n",
        "def generate_time_problem():\n",
        "  global challenge_count\n",
        "  challenge_count += 1\n",
        "  start_hour = random.randint(0, 23)\n",
        "  start_minute = random.randint(0, 59)\n",
        "  end_hour = random.randint(0, 23)\n",
        "  end_minute = random.randint(0, 59)\n",
        "\n",
        "  if (start_hour, start_minute) > (end_hour, end_minute):\n",
        "    start_hour, end_hour = end_hour, start_hour\n",
        "    start_minute, end_minute = end_minute, start_minute\n",
        "\n",
        "  print(f\"問題: {start_hour}時{start_minute}分から{end_hour}時{end_minute}分は何時間何分か？\")\n",
        "  return (start_hour, start_minute, end_hour, end_minute)\n",
        "\n",
        "def calculate_time_difference(start_hour, start_minute, end_hour, end_minute):\n",
        "  start_time_in_minutes = start_hour * 60 + start_minute\n",
        "  end_time_in_minutes = end_hour * 60 + end_minute\n",
        "  difference_in_minutes = end_time_in_minutes - start_time_in_minutes\n",
        "  hours = difference_in_minutes // 60\n",
        "  minutes = difference_in_minutes % 60\n",
        "  return hours, minutes\n",
        "\n",
        "\n",
        "while True:\n",
        "  start_hour, start_minute, end_hour, end_minute = generate_time_problem()\n",
        "  user_answer_hours = int(input(\"時間を入力してください: \"))\n",
        "  user_answer_minutes = int(input(\"分を入力してください: \"))\n",
        "\n",
        "  correct_hours, correct_minutes = calculate_time_difference(start_hour, start_minute, end_hour, end_minute)\n",
        "\n",
        "  if user_answer_hours == correct_hours and user_answer_minutes == correct_minutes:\n",
        "    global correct_count\n",
        "    correct_count += 1\n",
        "    print(\"正解！\")\n",
        "  else:\n",
        "    print(f\"不正解です。正解は{correct_hours}時間{correct_minutes}分です。\")\n",
        "  print(f\"挑戦回数: {challenge_count}, 正解回数: {correct_count}\")\n"
      ]
    }
  ],
  "metadata": {
    "colab": {
      "provenance": [],
      "authorship_tag": "ABX9TyO6oPruDkzp/81KyzssCCNb",
      "include_colab_link": true
    },
    "kernelspec": {
      "display_name": "Python 3",
      "name": "python3"
    },
    "language_info": {
      "name": "python"
    }
  },
  "nbformat": 4,
  "nbformat_minor": 0
}