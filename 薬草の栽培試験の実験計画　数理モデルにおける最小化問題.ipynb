{
  "nbformat": 4,
  "nbformat_minor": 0,
  "metadata": {
    "colab": {
      "provenance": [],
      "authorship_tag": "ABX9TyPIQJfI/SDsTBuRNOiYvhJf",
      "include_colab_link": true
    },
    "kernelspec": {
      "name": "python3",
      "display_name": "Python 3"
    },
    "language_info": {
      "name": "python"
    }
  },
  "cells": [
    {
      "cell_type": "markdown",
      "metadata": {
        "id": "view-in-github",
        "colab_type": "text"
      },
      "source": [
        "<a href=\"https://colab.research.google.com/github/platypus2000jp/Colaboratory/blob/main/%E8%96%AC%E8%8D%89%E3%81%AE%E6%A0%BD%E5%9F%B9%E8%A9%A6%E9%A8%93%E3%81%AE%E5%AE%9F%E9%A8%93%E8%A8%88%E7%94%BB%E3%80%80%E6%95%B0%E7%90%86%E3%83%A2%E3%83%87%E3%83%AB%E3%81%AB%E3%81%8A%E3%81%91%E3%82%8B%E6%9C%80%E5%B0%8F%E5%8C%96%E5%95%8F%E9%A1%8C.ipynb\" target=\"_parent\"><img src=\"https://colab.research.google.com/assets/colab-badge.svg\" alt=\"Open In Colab\"/></a>"
      ]
    },
    {
      "cell_type": "code",
      "execution_count": null,
      "metadata": {
        "colab": {
          "base_uri": "https://localhost:8080/"
        },
        "id": "DN2StiUXeuQN",
        "outputId": "b772d7a9-650e-4486-a8f4-322d419b3d59"
      },
      "outputs": [
        {
          "output_type": "stream",
          "name": "stdout",
          "text": [
            "Requirement already satisfied: pulp in /usr/local/lib/python3.10/dist-packages (2.9.0)\n",
            "Status: Optimal\n",
            "試験数: 5.0\n",
            "組み合わせ: ('ラベンダー', '腐葉土', '少量')\n",
            "組み合わせ: ('カモミール', '腐葉土', '少量')\n",
            "組み合わせ: ('ローズマリー', '腐葉土', '多量')\n",
            "組み合わせ: ('セージ', '粘土質土壌', '適量')\n",
            "組み合わせ: ('オレガノ', '砂質土壌', '少量')\n"
          ]
        }
      ],
      "source": [
        "# prompt: 薬草の栽培試験をしたいので最適化計画で最小の試験数になるように試験をデザインして、試験数と組み合わせを生成してください。データは適当なものを栽培しますが、種名は実在のハーブとします。実験計画はPuLPを利用してください。試験数は何回ですか。\n",
        "\n",
        "!pip install pulp\n",
        "\n",
        "from pulp import *\n",
        "import itertools\n",
        "\n",
        "# 薬草の種類\n",
        "herbs = [\"ラベンダー\", \"カモミール\", \"ローズマリー\", \"セージ\", \"オレガノ\"]\n",
        "\n",
        "# 土壌の種類\n",
        "soils = [\"砂質土壌\", \"粘土質土壌\", \"腐葉土\"]\n",
        "\n",
        "# 水やり量\n",
        "waters = [\"少量\", \"適量\", \"多量\"]\n",
        "\n",
        "# 組み合わせをすべて列挙\n",
        "combinations = list(itertools.product(herbs, soils, waters))\n",
        "\n",
        "# 最適化問題を定義\n",
        "problem = LpProblem(\"HerbalCultivationExperiment\", LpMinimize)\n",
        "\n",
        "# 決定変数 (各組み合わせの試験を行うかどうか)\n",
        "variables = LpVariable.dicts(\"Experiment\", combinations, cat=LpBinary)\n",
        "\n",
        "# 目的関数: 試験数を最小化\n",
        "problem += lpSum([variables[combination] for combination in combinations])\n",
        "\n",
        "# 制約条件: 各薬草、土壌、水やり量について、少なくとも1回は試験を行う\n",
        "for herb in herbs:\n",
        "  problem += lpSum([variables[(herb, soil, water)] for soil in soils for water in waters]) >= 1\n",
        "\n",
        "for soil in soils:\n",
        "  problem += lpSum([variables[(herb, soil, water)] for herb in herbs for water in waters]) >= 1\n",
        "\n",
        "for water in waters:\n",
        "  problem += lpSum([variables[(herb, soil, water)] for herb in herbs for soil in soils]) >= 1\n",
        "\n",
        "\n",
        "# 問題を解く\n",
        "status = problem.solve()\n",
        "\n",
        "# 結果を表示\n",
        "print(\"Status:\", LpStatus[status])\n",
        "\n",
        "if status == LpStatusOptimal:\n",
        "  print(\"試験数:\", value(problem.objective))\n",
        "  for combination in combinations:\n",
        "    if value(variables[combination]) == 1:\n",
        "      print(\"組み合わせ:\", combination)\n",
        "\n"
      ]
    }
  ]
}